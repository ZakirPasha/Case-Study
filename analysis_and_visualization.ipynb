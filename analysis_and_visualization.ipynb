{
 "cells": [
  {
   "cell_type": "markdown",
   "metadata": {},
   "source": [
    "# Summary\n",
    "\n",
    "This notebook is for analysis and visualization of the data story.\n",
    "\n",
    "This notebook is for data ingestion and carpentry parts of the project. First, we will load the CSV files and subset the data to 2002 - 2019 seasons. We will reformat variables and create new ones. We will create additional player performance metrics that will be used in further analysis. We will also standartize position names and update the historical team name abrevations variables. At the end we will join our data sets into one final data frame we will be using in further analysis.\n",
    "\n",
    "\n",
    "## Notebook Outline:\n",
    "- Notebook setup\n",
    "- Loading data\n",
    "- How long do NBA carrers last?\n",
    "   \n",
    "- NBA Sason Stats and Player data\n",
    "    - cleaning and reformating variables\n",
    "    - creating new variables\n",
    "    - joining NBA Season Stats and Player data frames\n",
    "    - creating NBA Player Per Game\n",
    "- Team ranking and NBA championship teams data\n",
    "    - filtering and creating new variables\n",
    "    - aggregate daily team ranking data frame\n",
    "    - updating Team name abrevations\n",
    "- Joining all data frames into one\n",
    "\n",
    "\n",
    "\n",
    "## Summary\n",
    "\n",
    "This notebook is for analysis and visualization of the data story.\n",
    "\n",
    "#### Notebook Outline\n",
    "\n",
    "- Setup\n",
    "- How long do NBA carrers last?\n",
    "- How are we defining veteran players?\n",
    "- How veteran players compare to non-veteran?\n",
    "- Vizualization for comparing Veterans and Non-Veterans\n",
    "- How do veteran players perform over time?\n"
   ]
  },
  {
   "cell_type": "markdown",
   "metadata": {},
   "source": [
    "\n",
    "\n",
    "# Notebook start\n",
    "\n",
    "\n",
    "### Setup\n",
    "\n",
    "- installing extra packages\n",
    "- loading libraries\n",
    "- turning off factors\n",
    "- loading data frame\n",
    "\n"
   ]
  },
  {
   "cell_type": "code",
   "execution_count": 1,
   "metadata": {},
   "outputs": [
    {
     "name": "stderr",
     "output_type": "stream",
     "text": [
      "Updating HTML index of packages in '.Library'\n",
      "Making 'packages.html' ... done\n",
      "Updating HTML index of packages in '.Library'\n",
      "Making 'packages.html' ... done\n",
      "Updating HTML index of packages in '.Library'\n",
      "Making 'packages.html' ... done\n",
      "Updating HTML index of packages in '.Library'\n",
      "Making 'packages.html' ... done\n",
      "\n",
      "Attaching package: ‘dplyr’\n",
      "\n",
      "The following objects are masked from ‘package:stats’:\n",
      "\n",
      "    filter, lag\n",
      "\n",
      "The following objects are masked from ‘package:base’:\n",
      "\n",
      "    intersect, setdiff, setequal, union\n",
      "\n",
      "Loading required package: gsubfn\n",
      "Loading required package: proto\n",
      "Warning message:\n",
      "“no DISPLAY variable so Tk is not available”Loading required package: RSQLite\n",
      "\n",
      "Attaching package: ‘plotly’\n",
      "\n",
      "The following object is masked from ‘package:ggplot2’:\n",
      "\n",
      "    last_plot\n",
      "\n",
      "The following object is masked from ‘package:stats’:\n",
      "\n",
      "    filter\n",
      "\n",
      "The following object is masked from ‘package:graphics’:\n",
      "\n",
      "    layout\n",
      "\n"
     ]
    }
   ],
   "source": [
    "# install extra packages\n",
    "install.packages(\"sqldf\")\n",
    "install.packages(\"ggcorrplot\")\n",
    "install.packages(\"ggthemes\")\n",
    "install.packages(\"plotly\")\n",
    "\n",
    "# load libraries\n",
    "library(tidyr)\n",
    "library(dplyr)\n",
    "library(sqldf)\n",
    "library(ggplot2)\n",
    "library(ggthemes)\n",
    "library(ggcorrplot)\n",
    "library(plotly)\n",
    "\n",
    "# turn off Factors to load columns as characters \n",
    "options('stringsAsFactors'=FALSE)\n",
    "# turn off sci number notations\n",
    "options(scipen = 999)"
   ]
  },
  {
   "cell_type": "markdown",
   "metadata": {},
   "source": [
    "# Loading data\n",
    "\n",
    "We will load our final data frame. This data frame was created in the **data_carpetry** notebook from the raw data CSV files. \n"
   ]
  },
  {
   "cell_type": "code",
   "execution_count": 2,
   "metadata": {},
   "outputs": [
    {
     "data": {
      "text/html": [
       "<ol class=list-inline>\n",
       "\t<li>8210</li>\n",
       "\t<li>74</li>\n",
       "</ol>\n"
      ],
      "text/latex": [
       "\\begin{enumerate*}\n",
       "\\item 8210\n",
       "\\item 74\n",
       "\\end{enumerate*}\n"
      ],
      "text/markdown": [
       "1. 8210\n",
       "2. 74\n",
       "\n",
       "\n"
      ],
      "text/plain": [
       "[1] 8210   74"
      ]
     },
     "metadata": {},
     "output_type": "display_data"
    },
    {
     "data": {
      "text/html": [
       "16"
      ],
      "text/latex": [
       "16"
      ],
      "text/markdown": [
       "16"
      ],
      "text/plain": [
       "[1] 16"
      ]
     },
     "metadata": {},
     "output_type": "display_data"
    }
   ],
   "source": [
    "\n",
    "# load data frame\n",
    "file1 <- \"../../../casestudy_Group2/GroupProducts/Milestone6/final_df.csv\"\n",
    "df <- read.csv(file1)\n",
    "\n",
    "# number of rows and columns\n",
    "dim(df)\n",
    "\n",
    "# number of seasons\n",
    "length(unique(df$Year))"
   ]
  },
  {
   "cell_type": "markdown",
   "metadata": {},
   "source": [
    "Our final data set has 8,210 player records for 16 seasons (2002 - 2019).\n"
   ]
  },
  {
   "cell_type": "markdown",
   "metadata": {},
   "source": [
    "How many players do we have in our final set? \n",
    "\n"
   ]
  },
  {
   "cell_type": "code",
   "execution_count": 3,
   "metadata": {},
   "outputs": [
    {
     "data": {
      "text/html": [
       "<table>\n",
       "<caption>A data.frame: 1 × 1</caption>\n",
       "<thead>\n",
       "\t<tr><th scope=col>count</th></tr>\n",
       "\t<tr><th scope=col>&lt;int&gt;</th></tr>\n",
       "</thead>\n",
       "<tbody>\n",
       "\t<tr><td>1537</td></tr>\n",
       "</tbody>\n",
       "</table>\n"
      ],
      "text/latex": [
       "A data.frame: 1 × 1\n",
       "\\begin{tabular}{r|l}\n",
       " count\\\\\n",
       " <int>\\\\\n",
       "\\hline\n",
       "\t 1537\\\\\n",
       "\\end{tabular}\n"
      ],
      "text/markdown": [
       "\n",
       "A data.frame: 1 × 1\n",
       "\n",
       "| count &lt;int&gt; |\n",
       "|---|\n",
       "| 1537 |\n",
       "\n"
      ],
      "text/plain": [
       "  count\n",
       "1 1537 "
      ]
     },
     "metadata": {},
     "output_type": "display_data"
    }
   ],
   "source": [
    "# total number of unique players \n",
    "df %>%\n",
    "    summarise(count = n_distinct(paste(Player,birth_date)))"
   ]
  },
  {
   "cell_type": "markdown",
   "metadata": {},
   "source": [
    "How many players per season?"
   ]
  },
  {
   "cell_type": "code",
   "execution_count": 4,
   "metadata": {},
   "outputs": [
    {
     "data": {
      "text/html": [
       "<table>\n",
       "<caption>A tibble: 16 × 2</caption>\n",
       "<thead>\n",
       "\t<tr><th scope=col>Year</th><th scope=col>count</th></tr>\n",
       "\t<tr><th scope=col>&lt;int&gt;</th><th scope=col>&lt;int&gt;</th></tr>\n",
       "</thead>\n",
       "<tbody>\n",
       "\t<tr><td>2002</td><td>436</td></tr>\n",
       "\t<tr><td>2003</td><td>425</td></tr>\n",
       "\t<tr><td>2004</td><td>439</td></tr>\n",
       "\t<tr><td>2005</td><td>460</td></tr>\n",
       "\t<tr><td>2006</td><td>454</td></tr>\n",
       "\t<tr><td>2007</td><td>454</td></tr>\n",
       "\t<tr><td>2008</td><td>446</td></tr>\n",
       "\t<tr><td>2009</td><td>440</td></tr>\n",
       "\t<tr><td>2010</td><td>439</td></tr>\n",
       "\t<tr><td>2011</td><td>448</td></tr>\n",
       "\t<tr><td>2012</td><td>473</td></tr>\n",
       "\t<tr><td>2013</td><td>462</td></tr>\n",
       "\t<tr><td>2014</td><td>474</td></tr>\n",
       "\t<tr><td>2015</td><td>488</td></tr>\n",
       "\t<tr><td>2016</td><td>471</td></tr>\n",
       "\t<tr><td>2017</td><td>481</td></tr>\n",
       "</tbody>\n",
       "</table>\n"
      ],
      "text/latex": [
       "A tibble: 16 × 2\n",
       "\\begin{tabular}{r|ll}\n",
       " Year & count\\\\\n",
       " <int> & <int>\\\\\n",
       "\\hline\n",
       "\t 2002 & 436\\\\\n",
       "\t 2003 & 425\\\\\n",
       "\t 2004 & 439\\\\\n",
       "\t 2005 & 460\\\\\n",
       "\t 2006 & 454\\\\\n",
       "\t 2007 & 454\\\\\n",
       "\t 2008 & 446\\\\\n",
       "\t 2009 & 440\\\\\n",
       "\t 2010 & 439\\\\\n",
       "\t 2011 & 448\\\\\n",
       "\t 2012 & 473\\\\\n",
       "\t 2013 & 462\\\\\n",
       "\t 2014 & 474\\\\\n",
       "\t 2015 & 488\\\\\n",
       "\t 2016 & 471\\\\\n",
       "\t 2017 & 481\\\\\n",
       "\\end{tabular}\n"
      ],
      "text/markdown": [
       "\n",
       "A tibble: 16 × 2\n",
       "\n",
       "| Year &lt;int&gt; | count &lt;int&gt; |\n",
       "|---|---|\n",
       "| 2002 | 436 |\n",
       "| 2003 | 425 |\n",
       "| 2004 | 439 |\n",
       "| 2005 | 460 |\n",
       "| 2006 | 454 |\n",
       "| 2007 | 454 |\n",
       "| 2008 | 446 |\n",
       "| 2009 | 440 |\n",
       "| 2010 | 439 |\n",
       "| 2011 | 448 |\n",
       "| 2012 | 473 |\n",
       "| 2013 | 462 |\n",
       "| 2014 | 474 |\n",
       "| 2015 | 488 |\n",
       "| 2016 | 471 |\n",
       "| 2017 | 481 |\n",
       "\n"
      ],
      "text/plain": [
       "   Year count\n",
       "1  2002 436  \n",
       "2  2003 425  \n",
       "3  2004 439  \n",
       "4  2005 460  \n",
       "5  2006 454  \n",
       "6  2007 454  \n",
       "7  2008 446  \n",
       "8  2009 440  \n",
       "9  2010 439  \n",
       "10 2011 448  \n",
       "11 2012 473  \n",
       "12 2013 462  \n",
       "13 2014 474  \n",
       "14 2015 488  \n",
       "15 2016 471  \n",
       "16 2017 481  "
      ]
     },
     "metadata": {},
     "output_type": "display_data"
    }
   ],
   "source": [
    "# number of players per season\n",
    "df %>% \n",
    "    group_by(Year) %>%\n",
    "    summarise(count = n_distinct(paste(Player,birth_date)))"
   ]
  },
  {
   "cell_type": "code",
   "execution_count": 5,
   "metadata": {},
   "outputs": [
    {
     "data": {
      "image/png": "[encoded data removed]",
      "text/plain": [
       "plot without title"
      ]
     },
     "metadata": {},
     "output_type": "display_data"
    }
   ],
   "source": [
    "# plot number of players per season (2002 - 20017)\n",
    "df %>%\n",
    "    ggplot(aes(Year)) +\n",
    "    geom_bar(fill=\"blue\") +\n",
    "    ggtitle(\"Number of Players per Season (2002 - 20017)\") +\n",
    "    xlab(\"Season\") +\n",
    "    ylab(\"Players\") + \n",
    "    theme_few()"
   ]
  },
  {
   "cell_type": "code",
   "execution_count": 6,
   "metadata": {},
   "outputs": [
    {
     "data": {
      "text/html": [
       "<table>\n",
       "<caption>A data.frame: 6 × 74</caption>\n",
       "<thead>\n",
       "\t<tr><th scope=col>X</th><th scope=col>index</th><th scope=col>Year</th><th scope=col>Player</th><th scope=col>Position</th><th scope=col>Age</th><th scope=col>G</th><th scope=col>GS</th><th scope=col>MP</th><th scope=col>PER</th><th scope=col>⋯</th><th scope=col>birth_date</th><th scope=col>college</th><th scope=col>Playing_Career_Length</th><th scope=col>Season_Career_Length</th><th scope=col>Team</th><th scope=col>team_G</th><th scope=col>team_W</th><th scope=col>team_L</th><th scope=col>team_W_PCT</th><th scope=col>champ_team</th></tr>\n",
       "\t<tr><th scope=col>&lt;int&gt;</th><th scope=col>&lt;int&gt;</th><th scope=col>&lt;int&gt;</th><th scope=col>&lt;chr&gt;</th><th scope=col>&lt;chr&gt;</th><th scope=col>&lt;int&gt;</th><th scope=col>&lt;int&gt;</th><th scope=col>&lt;int&gt;</th><th scope=col>&lt;int&gt;</th><th scope=col>&lt;dbl&gt;</th><th scope=col>⋯</th><th scope=col>&lt;chr&gt;</th><th scope=col>&lt;chr&gt;</th><th scope=col>&lt;int&gt;</th><th scope=col>&lt;int&gt;</th><th scope=col>&lt;chr&gt;</th><th scope=col>&lt;int&gt;</th><th scope=col>&lt;int&gt;</th><th scope=col>&lt;int&gt;</th><th scope=col>&lt;dbl&gt;</th><th scope=col>&lt;int&gt;</th></tr>\n",
       "</thead>\n",
       "<tbody>\n",
       "\t<tr><td>1</td><td>15506</td><td>2002</td><td>Tariq Abdul-Wahad  </td><td>SG</td><td>27</td><td>20</td><td>12</td><td> 417</td><td>10.3</td><td>⋯</td><td>November 3, 1974 </td><td>San Jose State University          </td><td> 5</td><td> 4</td><td>DEN</td><td>82</td><td>17</td><td>65</td><td>0.207</td><td>0</td></tr>\n",
       "\t<tr><td>2</td><td>15507</td><td>2002</td><td>Tariq Abdul-Wahad  </td><td>SG</td><td>27</td><td> 4</td><td> 0</td><td>  24</td><td> 0.3</td><td>⋯</td><td>November 3, 1974 </td><td>San Jose State University          </td><td> 5</td><td> 4</td><td>DAL</td><td>82</td><td>60</td><td>22</td><td>0.732</td><td>0</td></tr>\n",
       "\t<tr><td>3</td><td>15508</td><td>2002</td><td>Shareef Abdur-Rahim</td><td>PF</td><td>25</td><td>77</td><td>77</td><td>2980</td><td>19.8</td><td>⋯</td><td>December 11, 1976</td><td>University of California           </td><td>11</td><td> 5</td><td>ATL</td><td>82</td><td>35</td><td>47</td><td>0.427</td><td>0</td></tr>\n",
       "\t<tr><td>4</td><td>15509</td><td>2002</td><td>Courtney Alexander </td><td>SG</td><td>24</td><td>56</td><td>28</td><td>1325</td><td>13.6</td><td>⋯</td><td>April 27, 1977   </td><td>California State University, Fresno</td><td> 2</td><td> 1</td><td>WAS</td><td>82</td><td>37</td><td>45</td><td>0.451</td><td>0</td></tr>\n",
       "\t<tr><td>5</td><td>15510</td><td>2002</td><td>Victor Alexander   </td><td>C </td><td>32</td><td>15</td><td> 0</td><td>  97</td><td> 9.2</td><td>⋯</td><td>August 31, 1969  </td><td>Iowa State University              </td><td>10</td><td>10</td><td>DET</td><td>82</td><td>50</td><td>32</td><td>0.610</td><td>0</td></tr>\n",
       "\t<tr><td>6</td><td>15511</td><td>2002</td><td>Malik Allen        </td><td>PF</td><td>23</td><td>12</td><td> 2</td><td> 161</td><td>15.0</td><td>⋯</td><td>June 27, 1978    </td><td>Villanova University               </td><td> 9</td><td> 0</td><td>MIA</td><td>82</td><td>25</td><td>57</td><td>0.305</td><td>0</td></tr>\n",
       "</tbody>\n",
       "</table>\n"
      ],
      "text/latex": [
       "A data.frame: 6 × 74\n",
       "\\begin{tabular}{r|llllllllllllllllllllllllllllllllllllllllllllllllllllllllllllllllllllllllll}\n",
       " X & index & Year & Player & Position & Age & G & GS & MP & PER & TS. & X3PAr & FTr & ORB. & DRB. & TRB. & AST. & STL. & BLK. & TOV. & USG. & OWS & DWS & WS & WS.48 & OBPM & DBPM & BPM & VORP & FG & FGA & FG. & X3P & X3PA & X3P. & X2P & X2PA & X2P. & eFG. & FT & FTA & FT. & ORB & DRB & TRB & AST & STL & BLK & TOV & PF & PTS & MPG & PPG & APG & RPG & BPG & SPG & TOPG & PFPG & name & year\\_start & year\\_end & height & weight & birth\\_date & college & Playing\\_Career\\_Length & Season\\_Career\\_Length & Team & team\\_G & team\\_W & team\\_L & team\\_W\\_PCT & champ\\_team\\\\\n",
       " <int> & <int> & <int> & <chr> & <chr> & <int> & <int> & <int> & <int> & <dbl> & <dbl> & <dbl> & <dbl> & <dbl> & <dbl> & <dbl> & <dbl> & <dbl> & <dbl> & <dbl> & <dbl> & <dbl> & <dbl> & <dbl> & <dbl> & <dbl> & <dbl> & <dbl> & <dbl> & <int> & <int> & <dbl> & <int> & <int> & <dbl> & <int> & <int> & <dbl> & <dbl> & <int> & <int> & <dbl> & <int> & <int> & <int> & <int> & <int> & <int> & <int> & <int> & <int> & <dbl> & <dbl> & <dbl> & <dbl> & <dbl> & <dbl> & <dbl> & <dbl> & <chr> & <int> & <int> & <chr> & <int> & <chr> & <chr> & <int> & <int> & <chr> & <int> & <int> & <int> & <dbl> & <int>\\\\\n",
       "\\hline\n",
       "\t 1 & 15506 & 2002 & Tariq Abdul-Wahad   & SG & 27 & 20 & 12 &  417 & 10.3 & 0.424 & 0.014 & 0.221 & 10.2 & 11.2 & 10.7 &  8.7 & 2.3 & 1.6 & 13.1 & 19.7 & -0.2 & 0.3 &  0.0 &  0.005 & -3.2 &  0.0 &  -3.2 & -0.1 &  55 &  145 & 0.379 &  1 &  2 & 0.500 &  54 &  143 & 0.378 & 0.383 &  24 &  32 & 0.750 &  39 &  39 &  78 &  22 & 18 &  9 &  24 &  51 &  135 & 20.850000 &  6.750000 & 1.1000000 & 3.900000 & 0.45000000 & 0.900000 & 1.2000000 & 2.550000 & Tariq Abdul-Wahad   & 1998 & 2003 & 6-6  & 223 & November 3, 1974  & San Jose State University           &  5 &  4 & DEN & 82 & 17 & 65 & 0.207 & 0\\\\\n",
       "\t 2 & 15507 & 2002 & Tariq Abdul-Wahad   & SG & 27 &  4 &  0 &   24 &  0.3 & 0.000 & 0.000 & 0.500 &  9.4 & 18.2 & 13.9 & 10.4 & 4.3 & 3.0 & 55.1 & 10.2 & -0.1 & 0.0 & -0.1 & -0.128 & -9.1 &  6.1 &  -3.0 &  0.0 &   0 &    2 & 0.000 &  0 &  0 &    NA &   0 &    2 & 0.000 & 0.000 &   0 &   1 & 0.000 &   2 &   4 &   6 &   2 &  2 &  1 &   3 &   5 &    0 &  6.000000 &  0.000000 & 0.5000000 & 1.500000 & 0.25000000 & 0.500000 & 0.7500000 & 1.250000 & Tariq Abdul-Wahad   & 1998 & 2003 & 6-6  & 223 & November 3, 1974  & San Jose State University           &  5 &  4 & DAL & 82 & 60 & 22 & 0.732 & 0\\\\\n",
       "\t 3 & 15508 & 2002 & Shareef Abdur-Rahim & PF & 25 & 77 & 77 & 2980 & 19.8 & 0.536 & 0.054 & 0.403 &  7.6 & 19.2 & 13.3 & 15.1 & 1.7 & 2.0 & 14.1 & 27.0 &  4.1 & 3.1 &  7.2 &  0.116 &  1.2 &  0.8 &   2.0 &  3.0 & 598 & 1297 & 0.461 & 21 & 70 & 0.300 & 577 & 1227 & 0.470 & 0.469 & 419 & 523 & 0.801 & 198 & 498 & 696 & 239 & 98 & 81 & 250 & 214 & 1636 & 38.701299 & 21.246753 & 3.1038961 & 9.038961 & 1.05194805 & 1.272727 & 3.2467532 & 2.779221 & Shareef Abdur-Rahim & 1997 & 2008 & 6-9  & 225 & December 11, 1976 & University of California            & 11 &  5 & ATL & 82 & 35 & 47 & 0.427 & 0\\\\\n",
       "\t 4 & 15509 & 2002 & Courtney Alexander  & SG & 24 & 56 & 28 & 1325 & 13.6 & 0.521 & 0.038 & 0.255 &  3.7 &  9.3 &  6.5 & 11.3 & 1.4 & 0.4 & 10.2 & 20.4 &  1.6 & 0.6 &  2.2 &  0.080 & -0.5 & -1.6 &  -2.1 &  0.0 & 223 &  474 & 0.470 &  5 & 18 & 0.278 & 218 &  456 & 0.478 & 0.476 &  98 & 121 & 0.810 &  43 & 105 & 148 &  86 & 35 &  7 &  60 & 113 &  549 & 23.660714 &  9.803571 & 1.5357143 & 2.642857 & 0.12500000 & 0.625000 & 1.0714286 & 2.017857 & Courtney Alexander  & 2001 & 2003 & 6-5  & 205 & April 27, 1977    & California State University, Fresno &  2 &  1 & WAS & 82 & 37 & 45 & 0.451 & 0\\\\\n",
       "\t 5 & 15510 & 2002 & Victor Alexander    & C  & 32 & 15 &  0 &   97 &  9.2 & 0.367 & 0.039 & 0.157 &  8.6 & 26.6 & 17.6 & 11.5 & 0.0 & 0.7 &  8.4 & 28.9 & -0.3 & 0.1 & -0.1 & -0.073 & -7.9 & -3.5 & -11.4 & -0.2 &  18 &   51 & 0.353 &  0 &  2 & 0.000 &  18 &   49 & 0.367 & 0.353 &   4 &   8 & 0.500 &   7 &  22 &  29 &   6 &  0 &  1 &   5 &   6 &   40 &  6.466667 &  2.666667 & 0.4000000 & 1.933333 & 0.06666667 & 0.000000 & 0.3333333 & 0.400000 & Victor Alexander    & 1992 & 2002 & 6-9  & 265 & August 31, 1969   & Iowa State University               & 10 & 10 & DET & 82 & 50 & 32 & 0.610 & 0\\\\\n",
       "\t 6 & 15511 & 2002 & Malik Allen         & PF & 23 & 12 &  2 &  161 & 15.0 & 0.469 & 0.020 & 0.196 & 11.0 & 16.6 & 13.8 &  5.5 & 1.0 & 3.8 &  3.5 & 17.0 &  0.2 & 0.3 &  0.5 &  0.141 & -2.3 &  0.9 &  -1.4 &  0.0 &  22 &   51 & 0.431 &  0 &  1 & 0.000 &  22 &   50 & 0.440 & 0.431 &   8 &  10 & 0.800 &  15 &  23 &  38 &   5 &  3 &  8 &   2 &  16 &   52 & 13.416667 &  4.333333 & 0.4166667 & 3.166667 & 0.66666667 & 0.250000 & 0.1666667 & 1.333333 & Malik Allen         & 2002 & 2011 & 6-10 & 255 & June 27, 1978     & Villanova University                &  9 &  0 & MIA & 82 & 25 & 57 & 0.305 & 0\\\\\n",
       "\\end{tabular}\n"
      ],
      "text/markdown": [
       "\n",
       "A data.frame: 6 × 74\n",
       "\n",
       "| X &lt;int&gt; | index &lt;int&gt; | Year &lt;int&gt; | Player &lt;chr&gt; | Position &lt;chr&gt; | Age &lt;int&gt; | G &lt;int&gt; | GS &lt;int&gt; | MP &lt;int&gt; | PER &lt;dbl&gt; | ⋯ ⋯ | birth_date &lt;chr&gt; | college &lt;chr&gt; | Playing_Career_Length &lt;int&gt; | Season_Career_Length &lt;int&gt; | Team &lt;chr&gt; | team_G &lt;int&gt; | team_W &lt;int&gt; | team_L &lt;int&gt; | team_W_PCT &lt;dbl&gt; | champ_team &lt;int&gt; |\n",
       "|---|---|---|---|---|---|---|---|---|---|---|---|---|---|---|---|---|---|---|---|---|\n",
       "| 1 | 15506 | 2002 | Tariq Abdul-Wahad   | SG | 27 | 20 | 12 |  417 | 10.3 | ⋯ | November 3, 1974  | San Jose State University           |  5 |  4 | DEN | 82 | 17 | 65 | 0.207 | 0 |\n",
       "| 2 | 15507 | 2002 | Tariq Abdul-Wahad   | SG | 27 |  4 |  0 |   24 |  0.3 | ⋯ | November 3, 1974  | San Jose State University           |  5 |  4 | DAL | 82 | 60 | 22 | 0.732 | 0 |\n",
       "| 3 | 15508 | 2002 | Shareef Abdur-Rahim | PF | 25 | 77 | 77 | 2980 | 19.8 | ⋯ | December 11, 1976 | University of California            | 11 |  5 | ATL | 82 | 35 | 47 | 0.427 | 0 |\n",
       "| 4 | 15509 | 2002 | Courtney Alexander  | SG | 24 | 56 | 28 | 1325 | 13.6 | ⋯ | April 27, 1977    | California State University, Fresno |  2 |  1 | WAS | 82 | 37 | 45 | 0.451 | 0 |\n",
       "| 5 | 15510 | 2002 | Victor Alexander    | C  | 32 | 15 |  0 |   97 |  9.2 | ⋯ | August 31, 1969   | Iowa State University               | 10 | 10 | DET | 82 | 50 | 32 | 0.610 | 0 |\n",
       "| 6 | 15511 | 2002 | Malik Allen         | PF | 23 | 12 |  2 |  161 | 15.0 | ⋯ | June 27, 1978     | Villanova University                |  9 |  0 | MIA | 82 | 25 | 57 | 0.305 | 0 |\n",
       "\n"
      ],
      "text/plain": [
       "  X index Year Player              Position Age G  GS MP   PER  ⋯\n",
       "1 1 15506 2002 Tariq Abdul-Wahad   SG       27  20 12  417 10.3 ⋯\n",
       "2 2 15507 2002 Tariq Abdul-Wahad   SG       27   4  0   24  0.3 ⋯\n",
       "3 3 15508 2002 Shareef Abdur-Rahim PF       25  77 77 2980 19.8 ⋯\n",
       "4 4 15509 2002 Courtney Alexander  SG       24  56 28 1325 13.6 ⋯\n",
       "5 5 15510 2002 Victor Alexander    C        32  15  0   97  9.2 ⋯\n",
       "6 6 15511 2002 Malik Allen         PF       23  12  2  161 15.0 ⋯\n",
       "  birth_date        college                             Playing_Career_Length\n",
       "1 November 3, 1974  San Jose State University            5                   \n",
       "2 November 3, 1974  San Jose State University            5                   \n",
       "3 December 11, 1976 University of California            11                   \n",
       "4 April 27, 1977    California State University, Fresno  2                   \n",
       "5 August 31, 1969   Iowa State University               10                   \n",
       "6 June 27, 1978     Villanova University                 9                   \n",
       "  Season_Career_Length Team team_G team_W team_L team_W_PCT champ_team\n",
       "1  4                   DEN  82     17     65     0.207      0         \n",
       "2  4                   DAL  82     60     22     0.732      0         \n",
       "3  5                   ATL  82     35     47     0.427      0         \n",
       "4  1                   WAS  82     37     45     0.451      0         \n",
       "5 10                   DET  82     50     32     0.610      0         \n",
       "6  0                   MIA  82     25     57     0.305      0         "
      ]
     },
     "metadata": {},
     "output_type": "display_data"
    }
   ],
   "source": [
    "# display top rows\n",
    "head(df)"
   ]
  },
  {
   "cell_type": "markdown",
   "metadata": {},
   "source": [
    "# How long do NBA carrers last?\n",
    "\n",
    "To answer this question we are going to take a look at how many seasons players play. \n",
    "\n",
    "- Summary statistics for the number of seasons played\n",
    "- Distribution of number of seasons played\n",
    "- How does player age distribution looks like?\n",
    "    - Players age range by season (min, max, median)\n",
    "    - Players age distribution\n"
   ]
  },
  {
   "cell_type": "code",
   "execution_count": 7,
   "metadata": {},
   "outputs": [
    {
     "data": {
      "text/html": [
       "<table>\n",
       "<caption>A grouped_df: 6 × 3</caption>\n",
       "<thead>\n",
       "\t<tr><th scope=col>Player</th><th scope=col>birth_date</th><th scope=col>seasons</th></tr>\n",
       "\t<tr><th scope=col>&lt;chr&gt;</th><th scope=col>&lt;chr&gt;</th><th scope=col>&lt;int&gt;</th></tr>\n",
       "</thead>\n",
       "<tbody>\n",
       "\t<tr><td>A.J. Guyton </td><td>February 12, 1978 </td><td>2</td></tr>\n",
       "\t<tr><td>A.J. Hammons</td><td>August 27, 1992   </td><td>0</td></tr>\n",
       "\t<tr><td>A.J. Price  </td><td>October 7, 1986   </td><td>5</td></tr>\n",
       "\t<tr><td>Aaron Brooks</td><td>January 14, 1985  </td><td>9</td></tr>\n",
       "\t<tr><td>Aaron Gordon</td><td>September 16, 1995</td><td>2</td></tr>\n",
       "\t<tr><td>Aaron Gray  </td><td>December 7, 1984  </td><td>6</td></tr>\n",
       "</tbody>\n",
       "</table>\n"
      ],
      "text/latex": [
       "A grouped_df: 6 × 3\n",
       "\\begin{tabular}{r|lll}\n",
       " Player & birth\\_date & seasons\\\\\n",
       " <chr> & <chr> & <int>\\\\\n",
       "\\hline\n",
       "\t A.J. Guyton  & February 12, 1978  & 2\\\\\n",
       "\t A.J. Hammons & August 27, 1992    & 0\\\\\n",
       "\t A.J. Price   & October 7, 1986    & 5\\\\\n",
       "\t Aaron Brooks & January 14, 1985   & 9\\\\\n",
       "\t Aaron Gordon & September 16, 1995 & 2\\\\\n",
       "\t Aaron Gray   & December 7, 1984   & 6\\\\\n",
       "\\end{tabular}\n"
      ],
      "text/markdown": [
       "\n",
       "A grouped_df: 6 × 3\n",
       "\n",
       "| Player &lt;chr&gt; | birth_date &lt;chr&gt; | seasons &lt;int&gt; |\n",
       "|---|---|---|\n",
       "| A.J. Guyton  | February 12, 1978  | 2 |\n",
       "| A.J. Hammons | August 27, 1992    | 0 |\n",
       "| A.J. Price   | October 7, 1986    | 5 |\n",
       "| Aaron Brooks | January 14, 1985   | 9 |\n",
       "| Aaron Gordon | September 16, 1995 | 2 |\n",
       "| Aaron Gray   | December 7, 1984   | 6 |\n",
       "\n"
      ],
      "text/plain": [
       "  Player       birth_date         seasons\n",
       "1 A.J. Guyton  February 12, 1978  2      \n",
       "2 A.J. Hammons August 27, 1992    0      \n",
       "3 A.J. Price   October 7, 1986    5      \n",
       "4 Aaron Brooks January 14, 1985   9      \n",
       "5 Aaron Gordon September 16, 1995 2      \n",
       "6 Aaron Gray   December 7, 1984   6      "
      ]
     },
     "metadata": {},
     "output_type": "display_data"
    }
   ],
   "source": [
    "# create data frame for player season career length distribution\n",
    "# select max number of seasons played per player\n",
    "n1 <- df %>%\n",
    "    group_by(Player, birth_date) %>%\n",
    "    summarise(seasons = max(Season_Career_Length))\n",
    "\n",
    "# print top rows\n",
    "head(n1)"
   ]
  },
  {
   "cell_type": "markdown",
   "metadata": {},
   "source": [
    "Lets take a look at the summary statistics for the number of seasons played for all players in our data set."
   ]
  },
  {
   "cell_type": "code",
   "execution_count": 8,
   "metadata": {},
   "outputs": [
    {
     "data": {
      "text/plain": [
       "   Min. 1st Qu.  Median    Mean 3rd Qu.    Max. \n",
       "  0.000   1.000   4.000   5.407   9.000  22.000 "
      ]
     },
     "metadata": {},
     "output_type": "display_data"
    }
   ],
   "source": [
    "# summary statistics for number of seasons played\n",
    "summary(n1$seasons)"
   ]
  },
  {
   "cell_type": "markdown",
   "metadata": {},
   "source": [
    "\n",
    "Next, we will look at the distribution of number of seasons played in our data set."
   ]
  },
  {
   "cell_type": "code",
   "execution_count": 9,
   "metadata": {},
   "outputs": [
    {
     "data": {
      "image/png": "[encoded data removed]",
      "text/plain": [
       "plot without title"
      ]
     },
     "metadata": {},
     "output_type": "display_data"
    }
   ],
   "source": [
    "# plot distribution of number of seasons played \n",
    "n1 %>%\n",
    "    ggplot(aes(seasons)) +\n",
    "    geom_bar(aes(fill = ..count..)) +\n",
    "    ggtitle(\"Distribution by Seasons Played\") +\n",
    "    geom_vline(aes(xintercept = median(seasons, na.rm = T), linetype = \"Median line\"),\n",
    "               col = \"red\",\n",
    "               alpha = 0.8) +\n",
    "    xlab(\"Number of Seasons\") +\n",
    "    ylab(\"Number of Players\") + \n",
    "    theme_few()\n"
   ]
  },
  {
   "cell_type": "markdown",
   "metadata": {},
   "source": [
    "### How does player age distribution looks like?\n",
    "\n",
    "We are going to take a look at the folowing breakdowns:\n",
    "- Players age range by season (min, max, median).\n",
    "- Min and Max NBA players age."
   ]
  },
  {
   "cell_type": "code",
   "execution_count": 10,
   "metadata": {},
   "outputs": [
    {
     "data": {
      "image/png": "[encoded data removed]",
      "text/plain": [
       "plot without title"
      ]
     },
     "metadata": {},
     "output_type": "display_data"
    }
   ],
   "source": [
    "# plot min, max, median players age by seasons\n",
    "df %>%\n",
    "    group_by(Year) %>%\n",
    "    summarise(Median = median(Age),\n",
    "              Max = max(Age),\n",
    "              Min = min(Age)) %>%\n",
    "    ggplot(aes(Year)) +\n",
    "    geom_line(aes(y = Max, linetype = \"Oldest\"), color = \"red\", alpha = 0.5) +\n",
    "    geom_line(aes(y = Median, linetype = \"Median\"), color = \"black\") +\n",
    "    geom_line(aes(y = Min, linetype = \"Youngest\"), color = \"blue\", alpha = 0.5) +\n",
    "    ggtitle(\"Age Range by Season\") +\n",
    "    xlab(\"Season\") +\n",
    "    ylab(\"Age\") + \n",
    "    #scale_linetype_manual(name = \"\", values = c(1, 1, 1)) +\n",
    "    #guides(group=FALSE) +\n",
    "    theme_few() + \n",
    "    theme(legend.position=\"bottom\")\n"
   ]
  },
  {
   "cell_type": "markdown",
   "metadata": {},
   "source": [
    "The median and youngest players age have been consistand throughout the 2002 - 2017 seasons. \n",
    "\n",
    "\n",
    "Next, we will look at the Min and Max NBA players age distributions."
   ]
  },
  {
   "cell_type": "code",
   "execution_count": 11,
   "metadata": {},
   "outputs": [
    {
     "data": {
      "text/html": [
       "<table>\n",
       "<caption>A grouped_df: 6 × 4</caption>\n",
       "<thead>\n",
       "\t<tr><th scope=col>Player</th><th scope=col>birth_date</th><th scope=col>Parameter</th><th scope=col>Value</th></tr>\n",
       "\t<tr><th scope=col>&lt;chr&gt;</th><th scope=col>&lt;chr&gt;</th><th scope=col>&lt;chr&gt;</th><th scope=col>&lt;int&gt;</th></tr>\n",
       "</thead>\n",
       "<tbody>\n",
       "\t<tr><td>A.J. Guyton </td><td>February 12, 1978 </td><td>MinAge</td><td>23</td></tr>\n",
       "\t<tr><td>A.J. Hammons</td><td>August 27, 1992   </td><td>MinAge</td><td>24</td></tr>\n",
       "\t<tr><td>A.J. Price  </td><td>October 7, 1986   </td><td>MinAge</td><td>23</td></tr>\n",
       "\t<tr><td>Aaron Brooks</td><td>January 14, 1985  </td><td>MinAge</td><td>23</td></tr>\n",
       "\t<tr><td>Aaron Gordon</td><td>September 16, 1995</td><td>MinAge</td><td>19</td></tr>\n",
       "\t<tr><td>Aaron Gray  </td><td>December 7, 1984  </td><td>MinAge</td><td>23</td></tr>\n",
       "</tbody>\n",
       "</table>\n"
      ],
      "text/latex": [
       "A grouped_df: 6 × 4\n",
       "\\begin{tabular}{r|llll}\n",
       " Player & birth\\_date & Parameter & Value\\\\\n",
       " <chr> & <chr> & <chr> & <int>\\\\\n",
       "\\hline\n",
       "\t A.J. Guyton  & February 12, 1978  & MinAge & 23\\\\\n",
       "\t A.J. Hammons & August 27, 1992    & MinAge & 24\\\\\n",
       "\t A.J. Price   & October 7, 1986    & MinAge & 23\\\\\n",
       "\t Aaron Brooks & January 14, 1985   & MinAge & 23\\\\\n",
       "\t Aaron Gordon & September 16, 1995 & MinAge & 19\\\\\n",
       "\t Aaron Gray   & December 7, 1984   & MinAge & 23\\\\\n",
       "\\end{tabular}\n"
      ],
      "text/markdown": [
       "\n",
       "A grouped_df: 6 × 4\n",
       "\n",
       "| Player &lt;chr&gt; | birth_date &lt;chr&gt; | Parameter &lt;chr&gt; | Value &lt;int&gt; |\n",
       "|---|---|---|---|\n",
       "| A.J. Guyton  | February 12, 1978  | MinAge | 23 |\n",
       "| A.J. Hammons | August 27, 1992    | MinAge | 24 |\n",
       "| A.J. Price   | October 7, 1986    | MinAge | 23 |\n",
       "| Aaron Brooks | January 14, 1985   | MinAge | 23 |\n",
       "| Aaron Gordon | September 16, 1995 | MinAge | 19 |\n",
       "| Aaron Gray   | December 7, 1984   | MinAge | 23 |\n",
       "\n"
      ],
      "text/plain": [
       "  Player       birth_date         Parameter Value\n",
       "1 A.J. Guyton  February 12, 1978  MinAge    23   \n",
       "2 A.J. Hammons August 27, 1992    MinAge    24   \n",
       "3 A.J. Price   October 7, 1986    MinAge    23   \n",
       "4 Aaron Brooks January 14, 1985   MinAge    23   \n",
       "5 Aaron Gordon September 16, 1995 MinAge    19   \n",
       "6 Aaron Gray   December 7, 1984   MinAge    23   "
      ]
     },
     "metadata": {},
     "output_type": "display_data"
    }
   ],
   "source": [
    "# create data frame for min and max playing age per player\n",
    "nage <- df %>%\n",
    "    group_by(Player, birth_date) %>%\n",
    "    summarise(MinAge = min(Age),\n",
    "              MaxAge = max(Age)) %>%\n",
    "    gather(Parameter, Value, MinAge:MaxAge)\n",
    "\n",
    "head(nage)"
   ]
  },
  {
   "cell_type": "code",
   "execution_count": 12,
   "metadata": {},
   "outputs": [
    {
     "data": {
      "image/png": "[encoded data removed]",
      "text/plain": [
       "plot without title"
      ]
     },
     "metadata": {},
     "output_type": "display_data"
    }
   ],
   "source": [
    "# chart min and max players age distribution in our data set\n",
    "nage %>%\n",
    "    ggplot(aes(x=as.factor(Value),fill=Parameter)) + \n",
    "    geom_bar(data=filter(nage, Parameter == \"MaxAge\")) + \n",
    "    geom_bar(data=filter(nage, Parameter == \"MinAge\"), aes(y = ..count.. * (-1))) +\n",
    "    ggtitle(\"Min and Max NBA players age (2002-2017 seasons)\") +\n",
    "    xlab(\"Age\") +\n",
    "    ylab(\"Number of Players\") +\n",
    "    scale_y_continuous(breaks=seq(-200,0,200),labels=abs(seq(-200,0,200))) +\n",
    "    scale_fill_brewer(palette = \"Set1\") + \n",
    "    coord_flip() +\n",
    "    theme_few()"
   ]
  },
  {
   "cell_type": "markdown",
   "metadata": {},
   "source": [
    "<br/><br/>\n",
    "<br/><br/>\n",
    "\n",
    "# How are we defining Veteran players?\n",
    "\n",
    "We are using Season Career Length variable to define veteran players. Season Career Length is the number of years the player has been in the league by each season. We will take a look at how Season_Career_Length changes over time, by teams, and by playing position to determine the cuttof age for the veteran player calsification. We will create an Veteran binary variable based on the cuttof.\n",
    "\n",
    "\n",
    "- summary statistics for Season Career Length\n",
    "- mean, median, min, max, std of Season Career Length \n",
    "    - by season\n",
    "    - by position\n",
    "- histogram of Season Career Length by position\n",
    "- density plot of Season Career Length position\n",
    "- box plot median Season Career Length by position\n",
    "- distribution of the median Season Career Length by position by season\n",
    "- create Veteran binary variable\n"
   ]
  },
  {
   "cell_type": "code",
   "execution_count": 13,
   "metadata": {},
   "outputs": [
    {
     "data": {
      "text/plain": [
       "   Min. 1st Qu.  Median    Mean 3rd Qu.    Max. \n",
       "  0.000   1.000   4.000   4.835   8.000  22.000 "
      ]
     },
     "metadata": {},
     "output_type": "display_data"
    }
   ],
   "source": [
    "# summary statistics for Season_Career_Length \n",
    "summary(df$Season_Career_Length)"
   ]
  },
  {
   "cell_type": "code",
   "execution_count": 14,
   "metadata": {},
   "outputs": [
    {
     "data": {
      "text/html": [
       "<table>\n",
       "<caption>A tibble: 16 × 6</caption>\n",
       "<thead>\n",
       "\t<tr><th scope=col>Year</th><th scope=col>mean</th><th scope=col>median</th><th scope=col>min</th><th scope=col>max</th><th scope=col>std</th></tr>\n",
       "\t<tr><th scope=col>&lt;int&gt;</th><th scope=col>&lt;dbl&gt;</th><th scope=col>&lt;dbl&gt;</th><th scope=col>&lt;int&gt;</th><th scope=col>&lt;int&gt;</th><th scope=col>&lt;dbl&gt;</th></tr>\n",
       "</thead>\n",
       "<tbody>\n",
       "\t<tr><td>2002</td><td>4.896552</td><td>4</td><td>0</td><td>17</td><td>4.213276</td></tr>\n",
       "\t<tr><td>2003</td><td>4.763797</td><td>4</td><td>0</td><td>18</td><td>4.182170</td></tr>\n",
       "\t<tr><td>2004</td><td>4.904483</td><td>4</td><td>0</td><td>19</td><td>4.037500</td></tr>\n",
       "\t<tr><td>2005</td><td>4.873321</td><td>4</td><td>0</td><td>20</td><td>4.012394</td></tr>\n",
       "\t<tr><td>2006</td><td>4.475345</td><td>4</td><td>0</td><td>16</td><td>3.783269</td></tr>\n",
       "\t<tr><td>2007</td><td>4.523810</td><td>4</td><td>0</td><td>22</td><td>3.967837</td></tr>\n",
       "\t<tr><td>2008</td><td>4.930902</td><td>4</td><td>0</td><td>16</td><td>3.918279</td></tr>\n",
       "\t<tr><td>2009</td><td>4.921569</td><td>4</td><td>0</td><td>17</td><td>3.878018</td></tr>\n",
       "\t<tr><td>2010</td><td>4.927308</td><td>4</td><td>0</td><td>17</td><td>3.940080</td></tr>\n",
       "\t<tr><td>2011</td><td>4.986965</td><td>4</td><td>0</td><td>18</td><td>4.080100</td></tr>\n",
       "\t<tr><td>2012</td><td>4.929273</td><td>4</td><td>0</td><td>17</td><td>4.268880</td></tr>\n",
       "\t<tr><td>2013</td><td>4.914729</td><td>4</td><td>0</td><td>18</td><td>4.292293</td></tr>\n",
       "\t<tr><td>2014</td><td>4.726766</td><td>4</td><td>0</td><td>18</td><td>4.145140</td></tr>\n",
       "\t<tr><td>2015</td><td>4.750439</td><td>4</td><td>0</td><td>19</td><td>4.191827</td></tr>\n",
       "\t<tr><td>2016</td><td>5.042065</td><td>4</td><td>0</td><td>20</td><td>4.332244</td></tr>\n",
       "\t<tr><td>2017</td><td>4.767225</td><td>4</td><td>0</td><td>18</td><td>4.242180</td></tr>\n",
       "</tbody>\n",
       "</table>\n"
      ],
      "text/latex": [
       "A tibble: 16 × 6\n",
       "\\begin{tabular}{r|llllll}\n",
       " Year & mean & median & min & max & std\\\\\n",
       " <int> & <dbl> & <dbl> & <int> & <int> & <dbl>\\\\\n",
       "\\hline\n",
       "\t 2002 & 4.896552 & 4 & 0 & 17 & 4.213276\\\\\n",
       "\t 2003 & 4.763797 & 4 & 0 & 18 & 4.182170\\\\\n",
       "\t 2004 & 4.904483 & 4 & 0 & 19 & 4.037500\\\\\n",
       "\t 2005 & 4.873321 & 4 & 0 & 20 & 4.012394\\\\\n",
       "\t 2006 & 4.475345 & 4 & 0 & 16 & 3.783269\\\\\n",
       "\t 2007 & 4.523810 & 4 & 0 & 22 & 3.967837\\\\\n",
       "\t 2008 & 4.930902 & 4 & 0 & 16 & 3.918279\\\\\n",
       "\t 2009 & 4.921569 & 4 & 0 & 17 & 3.878018\\\\\n",
       "\t 2010 & 4.927308 & 4 & 0 & 17 & 3.940080\\\\\n",
       "\t 2011 & 4.986965 & 4 & 0 & 18 & 4.080100\\\\\n",
       "\t 2012 & 4.929273 & 4 & 0 & 17 & 4.268880\\\\\n",
       "\t 2013 & 4.914729 & 4 & 0 & 18 & 4.292293\\\\\n",
       "\t 2014 & 4.726766 & 4 & 0 & 18 & 4.145140\\\\\n",
       "\t 2015 & 4.750439 & 4 & 0 & 19 & 4.191827\\\\\n",
       "\t 2016 & 5.042065 & 4 & 0 & 20 & 4.332244\\\\\n",
       "\t 2017 & 4.767225 & 4 & 0 & 18 & 4.242180\\\\\n",
       "\\end{tabular}\n"
      ],
      "text/markdown": [
       "\n",
       "A tibble: 16 × 6\n",
       "\n",
       "| Year &lt;int&gt; | mean &lt;dbl&gt; | median &lt;dbl&gt; | min &lt;int&gt; | max &lt;int&gt; | std &lt;dbl&gt; |\n",
       "|---|---|---|---|---|---|\n",
       "| 2002 | 4.896552 | 4 | 0 | 17 | 4.213276 |\n",
       "| 2003 | 4.763797 | 4 | 0 | 18 | 4.182170 |\n",
       "| 2004 | 4.904483 | 4 | 0 | 19 | 4.037500 |\n",
       "| 2005 | 4.873321 | 4 | 0 | 20 | 4.012394 |\n",
       "| 2006 | 4.475345 | 4 | 0 | 16 | 3.783269 |\n",
       "| 2007 | 4.523810 | 4 | 0 | 22 | 3.967837 |\n",
       "| 2008 | 4.930902 | 4 | 0 | 16 | 3.918279 |\n",
       "| 2009 | 4.921569 | 4 | 0 | 17 | 3.878018 |\n",
       "| 2010 | 4.927308 | 4 | 0 | 17 | 3.940080 |\n",
       "| 2011 | 4.986965 | 4 | 0 | 18 | 4.080100 |\n",
       "| 2012 | 4.929273 | 4 | 0 | 17 | 4.268880 |\n",
       "| 2013 | 4.914729 | 4 | 0 | 18 | 4.292293 |\n",
       "| 2014 | 4.726766 | 4 | 0 | 18 | 4.145140 |\n",
       "| 2015 | 4.750439 | 4 | 0 | 19 | 4.191827 |\n",
       "| 2016 | 5.042065 | 4 | 0 | 20 | 4.332244 |\n",
       "| 2017 | 4.767225 | 4 | 0 | 18 | 4.242180 |\n",
       "\n"
      ],
      "text/plain": [
       "   Year mean     median min max std     \n",
       "1  2002 4.896552 4      0   17  4.213276\n",
       "2  2003 4.763797 4      0   18  4.182170\n",
       "3  2004 4.904483 4      0   19  4.037500\n",
       "4  2005 4.873321 4      0   20  4.012394\n",
       "5  2006 4.475345 4      0   16  3.783269\n",
       "6  2007 4.523810 4      0   22  3.967837\n",
       "7  2008 4.930902 4      0   16  3.918279\n",
       "8  2009 4.921569 4      0   17  3.878018\n",
       "9  2010 4.927308 4      0   17  3.940080\n",
       "10 2011 4.986965 4      0   18  4.080100\n",
       "11 2012 4.929273 4      0   17  4.268880\n",
       "12 2013 4.914729 4      0   18  4.292293\n",
       "13 2014 4.726766 4      0   18  4.145140\n",
       "14 2015 4.750439 4      0   19  4.191827\n",
       "15 2016 5.042065 4      0   20  4.332244\n",
       "16 2017 4.767225 4      0   18  4.242180"
      ]
     },
     "metadata": {},
     "output_type": "display_data"
    }
   ],
   "source": [
    "# mean, median, min, max, std of Season Career Length by season\n",
    "df %>% select(c(\"Year\", 'Season_Career_Length')) %>%\n",
    "    group_by(Year) %>%\n",
    "    summarise(mean = mean(Season_Career_Length), \n",
    "              median = median(Season_Career_Length),\n",
    "              min = min(Season_Career_Length),\n",
    "              max = max(Season_Career_Length),\n",
    "              std = sd(Season_Career_Length))\n"
   ]
  },
  {
   "cell_type": "code",
   "execution_count": 15,
   "metadata": {},
   "outputs": [
    {
     "data": {
      "text/html": [
       "<table>\n",
       "<caption>A tibble: 5 × 6</caption>\n",
       "<thead>\n",
       "\t<tr><th scope=col>Position</th><th scope=col>mean</th><th scope=col>median</th><th scope=col>min</th><th scope=col>max</th><th scope=col>std</th></tr>\n",
       "\t<tr><th scope=col>&lt;chr&gt;</th><th scope=col>&lt;dbl&gt;</th><th scope=col>&lt;dbl&gt;</th><th scope=col>&lt;int&gt;</th><th scope=col>&lt;int&gt;</th><th scope=col>&lt;dbl&gt;</th></tr>\n",
       "</thead>\n",
       "<tbody>\n",
       "\t<tr><td>C </td><td>5.124118</td><td>4</td><td>0</td><td>20</td><td>4.211088</td></tr>\n",
       "\t<tr><td>PF</td><td>4.943329</td><td>4</td><td>0</td><td>22</td><td>4.154898</td></tr>\n",
       "\t<tr><td>PG</td><td>4.811344</td><td>4</td><td>0</td><td>18</td><td>4.063065</td></tr>\n",
       "\t<tr><td>SF</td><td>4.785244</td><td>4</td><td>0</td><td>19</td><td>4.068302</td></tr>\n",
       "\t<tr><td>SG</td><td>4.498210</td><td>4</td><td>0</td><td>18</td><td>3.949305</td></tr>\n",
       "</tbody>\n",
       "</table>\n"
      ],
      "text/latex": [
       "A tibble: 5 × 6\n",
       "\\begin{tabular}{r|llllll}\n",
       " Position & mean & median & min & max & std\\\\\n",
       " <chr> & <dbl> & <dbl> & <int> & <int> & <dbl>\\\\\n",
       "\\hline\n",
       "\t C  & 5.124118 & 4 & 0 & 20 & 4.211088\\\\\n",
       "\t PF & 4.943329 & 4 & 0 & 22 & 4.154898\\\\\n",
       "\t PG & 4.811344 & 4 & 0 & 18 & 4.063065\\\\\n",
       "\t SF & 4.785244 & 4 & 0 & 19 & 4.068302\\\\\n",
       "\t SG & 4.498210 & 4 & 0 & 18 & 3.949305\\\\\n",
       "\\end{tabular}\n"
      ],
      "text/markdown": [
       "\n",
       "A tibble: 5 × 6\n",
       "\n",
       "| Position &lt;chr&gt; | mean &lt;dbl&gt; | median &lt;dbl&gt; | min &lt;int&gt; | max &lt;int&gt; | std &lt;dbl&gt; |\n",
       "|---|---|---|---|---|---|\n",
       "| C  | 5.124118 | 4 | 0 | 20 | 4.211088 |\n",
       "| PF | 4.943329 | 4 | 0 | 22 | 4.154898 |\n",
       "| PG | 4.811344 | 4 | 0 | 18 | 4.063065 |\n",
       "| SF | 4.785244 | 4 | 0 | 19 | 4.068302 |\n",
       "| SG | 4.498210 | 4 | 0 | 18 | 3.949305 |\n",
       "\n"
      ],
      "text/plain": [
       "  Position mean     median min max std     \n",
       "1 C        5.124118 4      0   20  4.211088\n",
       "2 PF       4.943329 4      0   22  4.154898\n",
       "3 PG       4.811344 4      0   18  4.063065\n",
       "4 SF       4.785244 4      0   19  4.068302\n",
       "5 SG       4.498210 4      0   18  3.949305"
      ]
     },
     "metadata": {},
     "output_type": "display_data"
    }
   ],
   "source": [
    "# mean, median, min, max, std of Season Career Length by position\n",
    "df %>% select(c(\"Position\", 'Season_Career_Length')) %>%\n",
    "    group_by(Position) %>%\n",
    "    summarise(mean = mean(Season_Career_Length), \n",
    "              median = median(Season_Career_Length), \n",
    "              min = min(Season_Career_Length),\n",
    "              max = max(Season_Career_Length),\n",
    "              std = sd(Season_Career_Length))\n"
   ]
  },
  {
   "cell_type": "code",
   "execution_count": 16,
   "metadata": {},
   "outputs": [
    {
     "data": {
      "image/png": "[encoded data removed]",
      "text/plain": [
       "plot without title"
      ]
     },
     "metadata": {},
     "output_type": "display_data"
    }
   ],
   "source": [
    "# histogram of Season Career Length by position\n",
    "ggplot(df, aes(x=Season_Career_Length)) + \n",
    "geom_histogram(binwidth=1,\n",
    "               color=\"black\", \n",
    "               fill=\"white\") +\n",
    "labs(y=\"Number of Players\", \n",
    "     x=\"Season Career Length\", \n",
    "     title=\"Season Career Length by Position\") + \n",
    "theme_few() + \n",
    "facet_wrap( ~ Position, ncol=1, scales = 'free')"
   ]
  },
  {
   "cell_type": "code",
   "execution_count": 17,
   "metadata": {},
   "outputs": [
    {
     "data": {
      "image/png": "[encoded data removed]",
      "text/plain": [
       "plot without title"
      ]
     },
     "metadata": {},
     "output_type": "display_data"
    }
   ],
   "source": [
    "# density plot of Season Career Length by position\n",
    "ggplot(df, aes(x=Season_Career_Length)) + \n",
    "geom_density(aes(fill=factor(Position)), alpha=0.8) + \n",
    "labs(y=\"Density\", \n",
    "     x=\"Season Career Length\", \n",
    "     title=\"Season Career Length by Position\") + \n",
    "scale_fill_brewer(palette = \"Set1\") + \n",
    "theme_few()\n"
   ]
  },
  {
   "cell_type": "code",
   "execution_count": 18,
   "metadata": {},
   "outputs": [
    {
     "data": {
      "image/png": "[encoded data removed]",
      "text/plain": [
       "plot without title"
      ]
     },
     "metadata": {},
     "output_type": "display_data"
    }
   ],
   "source": [
    "# box plot Median Season Career Length by position\n",
    "ggplot(df, aes(x=Position, y=Season_Career_Length, fill=Position)) + \n",
    "geom_boxplot() +\n",
    "labs(y=\"Season Career Length\", \n",
    "     x=\"Position\", \n",
    "     title=\"Box Plot Median Playing Career Length by Position\") + \n",
    "scale_fill_brewer(palette = \"Set1\") + \n",
    "theme_few()\n"
   ]
  },
  {
   "cell_type": "markdown",
   "metadata": {},
   "source": [
    "\n",
    "\n",
    "<br/><br/>\n",
    "*** \n",
    "Distribution of the median Season Career Length  \n",
    "\n",
    "Next, we will look at the Distribution of the median Season Career Length grouped by player's position and by seasons. We want to confirm that 4 seasons is the most common median age.  \n",
    "\n",
    "- create data frame for summary stats of Season Career Length by position by season\n",
    "- plot Distribution of Median Season Career Length\n"
   ]
  },
  {
   "cell_type": "code",
   "execution_count": 19,
   "metadata": {},
   "outputs": [
    {
     "data": {
      "text/html": [
       "<table>\n",
       "<caption>A grouped_df: 6 × 7</caption>\n",
       "<thead>\n",
       "\t<tr><th scope=col>Year</th><th scope=col>Position</th><th scope=col>mean</th><th scope=col>median</th><th scope=col>min</th><th scope=col>max</th><th scope=col>std</th></tr>\n",
       "\t<tr><th scope=col>&lt;int&gt;</th><th scope=col>&lt;chr&gt;</th><th scope=col>&lt;dbl&gt;</th><th scope=col>&lt;dbl&gt;</th><th scope=col>&lt;int&gt;</th><th scope=col>&lt;int&gt;</th><th scope=col>&lt;dbl&gt;</th></tr>\n",
       "</thead>\n",
       "<tbody>\n",
       "\t<tr><td>2002</td><td>C </td><td>3.903846</td><td>3</td><td>0</td><td>17</td><td>3.927793</td></tr>\n",
       "\t<tr><td>2002</td><td>PF</td><td>5.588889</td><td>5</td><td>0</td><td>17</td><td>4.328880</td></tr>\n",
       "\t<tr><td>2002</td><td>PG</td><td>5.510638</td><td>5</td><td>0</td><td>17</td><td>4.384098</td></tr>\n",
       "\t<tr><td>2002</td><td>SF</td><td>5.086420</td><td>4</td><td>0</td><td>17</td><td>4.342227</td></tr>\n",
       "\t<tr><td>2002</td><td>SG</td><td>4.557895</td><td>4</td><td>0</td><td>15</td><td>3.956454</td></tr>\n",
       "\t<tr><td>2003</td><td>C </td><td>5.067308</td><td>4</td><td>0</td><td>18</td><td>4.284233</td></tr>\n",
       "</tbody>\n",
       "</table>\n"
      ],
      "text/latex": [
       "A grouped_df: 6 × 7\n",
       "\\begin{tabular}{r|lllllll}\n",
       " Year & Position & mean & median & min & max & std\\\\\n",
       " <int> & <chr> & <dbl> & <dbl> & <int> & <int> & <dbl>\\\\\n",
       "\\hline\n",
       "\t 2002 & C  & 3.903846 & 3 & 0 & 17 & 3.927793\\\\\n",
       "\t 2002 & PF & 5.588889 & 5 & 0 & 17 & 4.328880\\\\\n",
       "\t 2002 & PG & 5.510638 & 5 & 0 & 17 & 4.384098\\\\\n",
       "\t 2002 & SF & 5.086420 & 4 & 0 & 17 & 4.342227\\\\\n",
       "\t 2002 & SG & 4.557895 & 4 & 0 & 15 & 3.956454\\\\\n",
       "\t 2003 & C  & 5.067308 & 4 & 0 & 18 & 4.284233\\\\\n",
       "\\end{tabular}\n"
      ],
      "text/markdown": [
       "\n",
       "A grouped_df: 6 × 7\n",
       "\n",
       "| Year &lt;int&gt; | Position &lt;chr&gt; | mean &lt;dbl&gt; | median &lt;dbl&gt; | min &lt;int&gt; | max &lt;int&gt; | std &lt;dbl&gt; |\n",
       "|---|---|---|---|---|---|---|\n",
       "| 2002 | C  | 3.903846 | 3 | 0 | 17 | 3.927793 |\n",
       "| 2002 | PF | 5.588889 | 5 | 0 | 17 | 4.328880 |\n",
       "| 2002 | PG | 5.510638 | 5 | 0 | 17 | 4.384098 |\n",
       "| 2002 | SF | 5.086420 | 4 | 0 | 17 | 4.342227 |\n",
       "| 2002 | SG | 4.557895 | 4 | 0 | 15 | 3.956454 |\n",
       "| 2003 | C  | 5.067308 | 4 | 0 | 18 | 4.284233 |\n",
       "\n"
      ],
      "text/plain": [
       "  Year Position mean     median min max std     \n",
       "1 2002 C        3.903846 3      0   17  3.927793\n",
       "2 2002 PF       5.588889 5      0   17  4.328880\n",
       "3 2002 PG       5.510638 5      0   17  4.384098\n",
       "4 2002 SF       5.086420 4      0   17  4.342227\n",
       "5 2002 SG       4.557895 4      0   15  3.956454\n",
       "6 2003 C        5.067308 4      0   18  4.284233"
      ]
     },
     "metadata": {},
     "output_type": "display_data"
    }
   ],
   "source": [
    "# mean, median, min, max, std of Season Career Length by position and season\n",
    "position_stats_season <- df %>% select(c(\"Year\", \"Position\", 'Season_Career_Length')) %>%\n",
    "    group_by(Year, Position) %>%\n",
    "    summarise(mean = mean(Season_Career_Length), \n",
    "              median = median(Season_Career_Length), \n",
    "              min = min(Season_Career_Length),\n",
    "              max = max(Season_Career_Length),\n",
    "              std = sd(Season_Career_Length))\n",
    "\n",
    "head(position_stats_season)"
   ]
  },
  {
   "cell_type": "code",
   "execution_count": 20,
   "metadata": {},
   "outputs": [
    {
     "data": {
      "image/png": "[encoded data removed]",
      "text/plain": [
       "plot without title"
      ]
     },
     "metadata": {},
     "output_type": "display_data"
    }
   ],
   "source": [
    "# histogram of Median Season Career Length by position and year\n",
    "ggplot(position_stats_season, aes(x=median)) + \n",
    "geom_histogram(binwidth=1,\n",
    "               color=\"black\", \n",
    "               fill=\"white\") + \n",
    "labs(y=\"Observations\", \n",
    "     x=\"Median Season Career Length\", \n",
    "     title=\"Distribution of Median Season Career Length\") + \n",
    "theme_few()\n",
    "#facet_wrap( ~ Position, ncol=1)\n"
   ]
  },
  {
   "cell_type": "markdown",
   "metadata": {},
   "source": [
    "<br/><br/>\n",
    "### Create Veteran binary variable\n",
    "\n",
    "Next, we are going to create the **veteran** binary variable.  \n",
    "Players with over 4 years Season Career Length during the season will be clasified as **Veterans**.\n"
   ]
  },
  {
   "cell_type": "code",
   "execution_count": 21,
   "metadata": {},
   "outputs": [],
   "source": [
    "# creating veteran binary variable\n",
    "# Veteran if Season_Career_Length > 4 \n",
    "df$veteran[df$Season_Career_Length>4] <- 1\n",
    "df$veteran[df$Season_Career_Length<=4] <- 0"
   ]
  },
  {
   "cell_type": "markdown",
   "metadata": {},
   "source": [
    "<br/><br/>\n",
    "<br/><br/>\n",
    "\n",
    "\n",
    "# How do Veterans compare to Non-Veterans in player performance metrics?  \n",
    "\n",
    "We are interested in the differences between Veterans and Non-Veteran platers. \n",
    "We will compare groups using the folowing metrics:\n",
    "- FG.: field goal %\n",
    "- MPG : minutes per game\n",
    "- RPG : rebounds per game\n",
    "- APG : assists per game\n",
    "- SPG : steals per game\n",
    "- BPG : blocks per game\n"
   ]
  },
  {
   "cell_type": "markdown",
   "metadata": {},
   "source": [
    "## Data preparation\n",
    "- create categorical variable (g_player_rank) for number of games played by season per player\n",
    "- subsets main data frame using g_player_rank\n",
    "- summary statistics for per game metrics\n",
    "- correlation matrix and plot"
   ]
  },
  {
   "cell_type": "markdown",
   "metadata": {},
   "source": [
    "We will categorize players into buckets based on number of games they played during the season. We want to compare Veteran and Non-Veterans players who play similar number of games.  \n",
    "\n",
    "We will create **g_player_rank** variable.Buckets: **Low**, **Mid**, and **High** number of games."
   ]
  },
  {
   "cell_type": "code",
   "execution_count": 22,
   "metadata": {},
   "outputs": [],
   "source": [
    "# create 3 buckets (Low, Med, and High) for numer of games played\n",
    "df$g_player_rank <- cut(df$G, 3, include.lowest=TRUE, labels=c(\"Low\", \"Med\", \"High\"))"
   ]
  },
  {
   "cell_type": "code",
   "execution_count": 23,
   "metadata": {},
   "outputs": [
    {
     "data": {
      "text/html": [
       "<table>\n",
       "<caption>A tibble: 3 × 5</caption>\n",
       "<thead>\n",
       "\t<tr><th scope=col>g_player_rank</th><th scope=col>min</th><th scope=col>mean</th><th scope=col>median</th><th scope=col>max</th></tr>\n",
       "\t<tr><th scope=col>&lt;fct&gt;</th><th scope=col>&lt;int&gt;</th><th scope=col>&lt;dbl&gt;</th><th scope=col>&lt;dbl&gt;</th><th scope=col>&lt;int&gt;</th></tr>\n",
       "</thead>\n",
       "<tbody>\n",
       "\t<tr><td>Low </td><td> 1</td><td>14.04915</td><td>14</td><td>28</td></tr>\n",
       "\t<tr><td>Med </td><td>29</td><td>42.70763</td><td>43</td><td>55</td></tr>\n",
       "\t<tr><td>High</td><td>56</td><td>72.29245</td><td>74</td><td>82</td></tr>\n",
       "</tbody>\n",
       "</table>\n"
      ],
      "text/latex": [
       "A tibble: 3 × 5\n",
       "\\begin{tabular}{r|lllll}\n",
       " g\\_player\\_rank & min & mean & median & max\\\\\n",
       " <fct> & <int> & <dbl> & <dbl> & <int>\\\\\n",
       "\\hline\n",
       "\t Low  &  1 & 14.04915 & 14 & 28\\\\\n",
       "\t Med  & 29 & 42.70763 & 43 & 55\\\\\n",
       "\t High & 56 & 72.29245 & 74 & 82\\\\\n",
       "\\end{tabular}\n"
      ],
      "text/markdown": [
       "\n",
       "A tibble: 3 × 5\n",
       "\n",
       "| g_player_rank &lt;fct&gt; | min &lt;int&gt; | mean &lt;dbl&gt; | median &lt;dbl&gt; | max &lt;int&gt; |\n",
       "|---|---|---|---|---|\n",
       "| Low  |  1 | 14.04915 | 14 | 28 |\n",
       "| Med  | 29 | 42.70763 | 43 | 55 |\n",
       "| High | 56 | 72.29245 | 74 | 82 |\n",
       "\n"
      ],
      "text/plain": [
       "  g_player_rank min mean     median max\n",
       "1 Low            1  14.04915 14     28 \n",
       "2 Med           29  42.70763 43     55 \n",
       "3 High          56  72.29245 74     82 "
      ]
     },
     "metadata": {},
     "output_type": "display_data"
    }
   ],
   "source": [
    "# check g_player_rank category ranges\n",
    "df %>%\n",
    "group_by(g_player_rank) %>%\n",
    "summarise(min = min(G),\n",
    "          mean = mean(G),\n",
    "          median = median(G),\n",
    "          max = max(G))"
   ]
  },
  {
   "cell_type": "markdown",
   "metadata": {},
   "source": [
    "g_player_rank bucket ranges:\n",
    "- **Low** - 1 to 28 games\n",
    "- **Mid** - 29 to 55 games\n",
    "- **High** - 56 to 82 games\n"
   ]
  },
  {
   "cell_type": "markdown",
   "metadata": {},
   "source": [
    "How many player records do we have in each bucket?"
   ]
  },
  {
   "cell_type": "code",
   "execution_count": 24,
   "metadata": {},
   "outputs": [
    {
     "data": {
      "image/png": "[encoded data removed]",
      "text/plain": [
       "plot without title"
      ]
     },
     "metadata": {},
     "output_type": "display_data"
    }
   ],
   "source": [
    "# histogram of g_player_rank\n",
    "ggplot(df, aes(x=g_player_rank)) + \n",
    "geom_bar() +\n",
    "labs(y=\"Observations\", \n",
    "     x=\"Number of games played during season\", \n",
    "     title=\"Histogram of g_player_rank\") + \n",
    "theme_few()"
   ]
  },
  {
   "cell_type": "code",
   "execution_count": 25,
   "metadata": {},
   "outputs": [],
   "source": [
    "# subsets main data frame using g_player_rank variable\n",
    "# players with Low number of Games during Season\n",
    "df_gl <- df %>% filter(df$g_player_rank == \"Low\")\n",
    "# players with Mid number of Games during Season\n",
    "df_gm <- df %>% filter(df$g_player_rank == \"Med\")\n",
    "# players with High number of Games during Season\n",
    "df_gh <- df %>% filter(df$g_player_rank == \"High\")"
   ]
  },
  {
   "cell_type": "code",
   "execution_count": 26,
   "metadata": {},
   "outputs": [],
   "source": [
    "# selecting variables of interest\n",
    "df_stats <- df %>% select(c('Player',\n",
    "                            'Position',\n",
    "                            'g_player_rank',\n",
    "                            'Year',\n",
    "                            'Season_Career_Length',\n",
    "                            'veteran',\n",
    "                            'FG.', \n",
    "                            'MPG', \n",
    "                            'PPG', \n",
    "                            'RPG', \n",
    "                            'BPG', \n",
    "                            'SPG', \n",
    "                            'APG',\n",
    "                            'G'))"
   ]
  },
  {
   "cell_type": "code",
   "execution_count": 27,
   "metadata": {},
   "outputs": [
    {
     "data": {
      "text/plain": [
       "      FG.              MPG             PPG              RPG        \n",
       " Min.   :0.0000   Min.   : 0.00   Min.   : 0.000   Min.   : 0.000  \n",
       " 1st Qu.:0.3950   1st Qu.:11.64   1st Qu.: 3.366   1st Qu.: 1.714  \n",
       " Median :0.4360   Median :19.36   Median : 6.414   Median : 2.889  \n",
       " Mean   :0.4327   Mean   :20.06   Mean   : 7.909   Mean   : 3.475  \n",
       " 3rd Qu.:0.4790   3rd Qu.:28.37   3rd Qu.:11.242   3rd Qu.: 4.615  \n",
       " Max.   :1.0000   Max.   :43.70   Max.   :35.400   Max.   :18.000  \n",
       " NA's   :46                                                        \n",
       "      BPG               SPG              APG                G        \n",
       " Min.   :0.00000   Min.   :0.0000   Min.   : 0.0000   Min.   : 1.00  \n",
       " 1st Qu.:0.09677   1st Qu.:0.3000   1st Qu.: 0.5164   1st Qu.:24.00  \n",
       " Median :0.24390   Median :0.5429   Median : 1.1508   Median :53.00  \n",
       " Mean   :0.39992   Mean   :0.6216   Mean   : 1.7519   Mean   :47.88  \n",
       " 3rd Qu.:0.50000   3rd Qu.:0.8667   3rd Qu.: 2.3465   3rd Qu.:73.00  \n",
       " Max.   :6.00000   Max.   :2.8852   Max.   :12.7500   Max.   :82.00  \n",
       "                                                                     "
      ]
     },
     "metadata": {},
     "output_type": "display_data"
    }
   ],
   "source": [
    "# summary statistics for per game metrics\n",
    "summary(df_stats[7:14])"
   ]
  },
  {
   "cell_type": "code",
   "execution_count": 28,
   "metadata": {},
   "outputs": [],
   "source": [
    "# correlation between variables of interest \n",
    "# excluding Player, Position, g_player_rank, and Year variables\n",
    "corr <- df_stats %>% select(-c(Player, Position, g_player_rank, Year)) \n",
    "corr <- round(cor(corr), 2)"
   ]
  },
  {
   "cell_type": "code",
   "execution_count": 29,
   "metadata": {},
   "outputs": [
    {
     "data": {
      "image/png": "[encoded data removed]",
      "text/plain": [
       "plot without title"
      ]
     },
     "metadata": {},
     "output_type": "display_data"
    }
   ],
   "source": [
    "# correlation matrix plot\n",
    "ggcorrplot(corr,\n",
    "           type = \"lower\",\n",
    "           lab = TRUE, \n",
    "           lab_size = 3, \n",
    "           method=\"circle\", \n",
    "           title=\"Correlogram Matrix\", \n",
    "           ggtheme=theme_bw)"
   ]
  },
  {
   "cell_type": "code",
   "execution_count": 30,
   "metadata": {},
   "outputs": [],
   "source": [
    "# set veteran variable as factor so we can use it as category\n",
    "df$veteran <- as.factor(df$veteran)"
   ]
  },
  {
   "cell_type": "code",
   "execution_count": 31,
   "metadata": {},
   "outputs": [
    {
     "ename": "ERROR",
     "evalue": "Error in dark_theme_gray(): could not find function \"dark_theme_gray\"\n",
     "output_type": "error",
     "traceback": [
      "Error in dark_theme_gray(): could not find function \"dark_theme_gray\"\nTraceback:\n"
     ]
    }
   ],
   "source": [
    "# plot number of players per season (2002 - 20017)\n",
    "df %>%\n",
    "    ggplot(aes(Year)) +\n",
    "    geom_bar(fill=\"blue\") +\n",
    "    ggtitle(\"Number of Players per Season (2002 - 20017)\") +\n",
    "    xlab(\"Season\") +\n",
    "    ylab(\"Players\") + \n",
    "    dark_theme_gray()"
   ]
  },
  {
   "cell_type": "markdown",
   "metadata": {},
   "source": [
    "\n",
    "\n",
    "## Field goal % (FG.)\n",
    "\n",
    "We are going to compare Veteran and Non-veterans using field goal % metric. \n",
    "\n",
    "- mean and median FG. relative to veteran status\n",
    "- distribution of FG. relative to veteran status\n",
    "- density plot FG. relative to veteran status\n",
    "- box plot of FG. relative to veteran status\n",
    "- t.test for comparing the means of two groups"
   ]
  },
  {
   "cell_type": "code",
   "execution_count": null,
   "metadata": {},
   "outputs": [],
   "source": [
    "# FG. mean and median relative to veteran status\n",
    "df_stats %>%\n",
    "group_by(veteran) %>%\n",
    "summarise(mean = mean(FG.,na.rm = T),\n",
    "          median = median(FG.,na.rm = T))"
   ]
  },
  {
   "cell_type": "code",
   "execution_count": null,
   "metadata": {},
   "outputs": [],
   "source": [
    "# field goal % distribution relative to veteran status\n",
    "df_stats %>%\n",
    "    ggplot(aes(FG.)) +\n",
    "    geom_histogram(binwidth = 0.02, color = \"black\",fill = \"grey\") +\n",
    "    labs(title = \"Distribution of FG. relative to Veteran status\",\n",
    "         x = \"FG.\",\n",
    "         y = \"Number of Players\") +\n",
    "    theme_minimal() +\n",
    "    facet_grid(veteran~.)"
   ]
  },
  {
   "cell_type": "code",
   "execution_count": null,
   "metadata": {},
   "outputs": [],
   "source": [
    "# field goal % density plot relative to veteran status\n",
    "df_stats %>%\n",
    "    ggplot(aes(FG.)) +\n",
    "    geom_density(aes(fill=factor(veteran)), alpha=0.5) + \n",
    "    labs(title = \"Density of FG. relative to Veteran status\",\n",
    "         x = \"FG.\",\n",
    "         y = \"Density\") +\n",
    "    scale_fill_brewer(palette = \"Set1\") + \n",
    "    theme_few()"
   ]
  },
  {
   "cell_type": "code",
   "execution_count": null,
   "metadata": {},
   "outputs": [],
   "source": [
    "# box plot field goal % relative to veteran status\n",
    "df_stats$veteran <- as.factor(df_stats$veteran)\n",
    "df_stats %>%\n",
    "    ggplot(aes(x=veteran, y=FG., fill=veteran)) +\n",
    "    geom_boxplot() +\n",
    "    labs(title = \"Box Plot of FG. relative to Veteran status\",\n",
    "         x = \"Veteran\",\n",
    "         y = \"FG.\") +\n",
    "    scale_fill_brewer(palette = \"Set1\") + \n",
    "    theme_minimal()"
   ]
  },
  {
   "cell_type": "markdown",
   "metadata": {},
   "source": [
    "### t.test\n",
    "\n",
    "Next, we will perform t.test for comparing the means of two groups."
   ]
  },
  {
   "cell_type": "code",
   "execution_count": null,
   "metadata": {},
   "outputs": [],
   "source": [
    "# t.test for comparing the means of two groups\n",
    "fg.ttest <- t.test(FG. ~ veteran, data = df_stats)\n",
    "fg.ttest\n"
   ]
  },
  {
   "cell_type": "markdown",
   "metadata": {},
   "source": [
    "The p-value of Two Sample t-test is p = 0.02469.\n",
    "It’s lower than the significance level 0.05. In conclusion, there is significant difference between the means of the two groups. "
   ]
  },
  {
   "cell_type": "markdown",
   "metadata": {},
   "source": [
    "# MPG\n",
    "\n",
    "We are going to compare Veteran and Non-veterans using minutes per game (MPG) metric. \n",
    "\n",
    "- mean and median MPG relative to veteran status\n",
    "- distribution of MPG relative to veteran status\n",
    "- mean MPG by season by veteran status\n",
    "- t.test for comparing the means of two groups"
   ]
  },
  {
   "cell_type": "code",
   "execution_count": null,
   "metadata": {},
   "outputs": [],
   "source": [
    "# MPG mean and median relative to veteran status\n",
    "df_stats %>%\n",
    "group_by(veteran) %>%\n",
    "summarise(mean = mean(MPG,na.rm = T),\n",
    "          median = median(MPG,na.rm = T))"
   ]
  },
  {
   "cell_type": "code",
   "execution_count": null,
   "metadata": {},
   "outputs": [],
   "source": [
    "# MPG distribution relative to veteran status\n",
    "df_stats %>%\n",
    "    ggplot(aes(MPG)) +\n",
    "    geom_histogram(binwidth = 1, color = \"black\",fill = \"grey\") +\n",
    "    labs(title = \"Distribution of MPG relative to Veteran status\",\n",
    "         x = \"MPG\",\n",
    "         y = \"Number of Players\") +\n",
    "    theme_minimal() +\n",
    "    facet_grid(veteran~.)"
   ]
  },
  {
   "cell_type": "code",
   "execution_count": null,
   "metadata": {},
   "outputs": [],
   "source": [
    "# create data frame for mean MPG by season relative to veteran status\n",
    "mpg_season <- df_stats %>% group_by(veteran, Year) %>%\n",
    "summarise(mean = mean(MPG))"
   ]
  },
  {
   "cell_type": "code",
   "execution_count": null,
   "metadata": {},
   "outputs": [],
   "source": [
    "# plot Mean MPG by season by veteran status\n",
    "mpg_season %>% \n",
    "ggplot(aes(x=Year, y=mean, colour = veteran)) + \n",
    "geom_line(size = 2) + \n",
    "labs(title=\"Average MPG Veteran vs Non-Veteran\", y = \"Average MPG\" , x = \"Season\") +\n",
    "theme_few() + theme(legend.position=\"bottom\")\n"
   ]
  },
  {
   "cell_type": "markdown",
   "metadata": {},
   "source": [
    "### t.test\n",
    "\n",
    "Next, we will perform t.test for comparing the means of two groups."
   ]
  },
  {
   "cell_type": "code",
   "execution_count": null,
   "metadata": {},
   "outputs": [],
   "source": [
    "mpg.ttest <- t.test(MPG ~ veteran, data = df_stats)\n",
    "mpg.ttest"
   ]
  },
  {
   "cell_type": "markdown",
   "metadata": {},
   "source": [
    "The p-value of Two Sample t-test is p = 2.2e-16.\n",
    "It’s lower than the significance level 0.05. In conclusion, there is significant difference between the means of the two groups. "
   ]
  },
  {
   "cell_type": "markdown",
   "metadata": {},
   "source": [
    "# PPG\n",
    "\n",
    "We are going to compare Veteran and Non-veterans using points per game (PPG) metric. \n",
    "\n",
    "- mean and median PPG relative to veteran status\n",
    "- mean and median PPG relative to veteran status by number of games played (g_player_rank)\n",
    "- mean PPG relative to veteran status by seasons \n",
    "- density plot PPG relative to veteran status\n",
    "- t.test for comparing the means of two groups\n"
   ]
  },
  {
   "cell_type": "code",
   "execution_count": null,
   "metadata": {},
   "outputs": [],
   "source": [
    "# mean and median PPG for veteran and non-veterans \n",
    "df_stats %>%\n",
    "group_by(veteran) %>%\n",
    "summarise(mean = mean(PPG),\n",
    "          median = median(PPG))"
   ]
  },
  {
   "cell_type": "code",
   "execution_count": null,
   "metadata": {},
   "outputs": [],
   "source": [
    "# mean and median PPG for veteran and non-veterans by number of games played buckets (g_player_rank)\n",
    "df %>%\n",
    "group_by(veteran, g_player_rank) %>%\n",
    "summarise(mean = mean(PPG),\n",
    "          median = median(PPG))"
   ]
  },
  {
   "cell_type": "markdown",
   "metadata": {},
   "source": [
    "Overall, Veterans have higher PPG compared to Non-Veterans accorss all number of games played buckets. "
   ]
  },
  {
   "cell_type": "markdown",
   "metadata": {},
   "source": [
    "Next, lets look at the mean PPG by veteran status by seasons."
   ]
  },
  {
   "cell_type": "code",
   "execution_count": null,
   "metadata": {},
   "outputs": [],
   "source": [
    "# create data frame for mean ppg by veteran status by seasons \n",
    "ppg_season <- df_stats %>% group_by(veteran, Year) %>%\n",
    "summarise(mean = mean(PPG))"
   ]
  },
  {
   "cell_type": "code",
   "execution_count": null,
   "metadata": {},
   "outputs": [],
   "source": [
    "# plot mean ppg by veteran status by seasons \n",
    "ppg_season %>% \n",
    "ggplot(aes(x=Year, y=mean, colour = veteran)) + \n",
    "geom_line(size = 2) + \n",
    "labs(title=\"Average PPG Veteran vs Non-Veteran\", y = \"Average PPG\" , x = \"Season\") +\n",
    "theme_few() + theme(legend.position=\"bottom\")\n"
   ]
  },
  {
   "cell_type": "code",
   "execution_count": null,
   "metadata": {},
   "outputs": [],
   "source": [
    "# density plot PPG relative to Veteran status\n",
    "df_stats %>%\n",
    "    ggplot(aes(PPG)) +\n",
    "    geom_density(aes(fill=factor(veteran)), alpha=0.5) + \n",
    "    labs(title = \"Density of PPG relative to Veteran status\",\n",
    "         x = \"PPG\",\n",
    "         y = \"Density\") +\n",
    "    scale_fill_brewer(palette = \"Set1\") + \n",
    "    theme_few()"
   ]
  },
  {
   "cell_type": "code",
   "execution_count": null,
   "metadata": {},
   "outputs": [],
   "source": [
    "# box-plot PPG relative to Veteran status\n",
    "df %>%\n",
    "    ggplot(aes(x=veteran, y=PPG, fill=veteran)) +\n",
    "    geom_boxplot() +\n",
    "    labs(title = \"Box-Plot of PPG relative to Veteran status\",\n",
    "         x = \"Veteran\",\n",
    "         y = \"PPG\") +\n",
    "    scale_fill_brewer(palette = \"Set1\") + \n",
    "    theme_minimal()"
   ]
  },
  {
   "cell_type": "markdown",
   "metadata": {},
   "source": [
    "We will also look at box-plots of PPG relative to Veteran status grouped by number of games played buckets (g_player_rank)."
   ]
  },
  {
   "cell_type": "code",
   "execution_count": null,
   "metadata": {},
   "outputs": [],
   "source": [
    "# box-plot PPG relative to Veteran status\n",
    "# facet grid using g_player_rank\n",
    "df %>%\n",
    "    ggplot(aes(x=veteran, y=PPG, fill=veteran)) +\n",
    "    geom_boxplot() +\n",
    "    labs(title = \"Box-Plot of PPG relative to Veteran status\",\n",
    "         x = \"Veteran\",\n",
    "         y = \"PPG\") +\n",
    "    scale_fill_brewer(palette = \"Set1\") + \n",
    "    theme_minimal() + \n",
    "    facet_grid(g_player_rank~.)"
   ]
  },
  {
   "cell_type": "markdown",
   "metadata": {},
   "source": [
    "### t.test\n",
    "\n",
    "Next, we will perform t.test for comparing the means of two groups.  \n",
    "We will also perform t.test using number of games played buckets."
   ]
  },
  {
   "cell_type": "code",
   "execution_count": null,
   "metadata": {},
   "outputs": [],
   "source": [
    "# Two Sample t-test PPG between Veterans and Non-Veterans\n",
    "ppg.ttest <- t.test(PPG ~ veteran, data = df)\n",
    "ppg.ttest"
   ]
  },
  {
   "cell_type": "code",
   "execution_count": null,
   "metadata": {},
   "outputs": [],
   "source": [
    "# Two Sample t-test PPG between Veterans and Non-Veterans\n",
    "# for players who played Low number of games during the season\n",
    "ppg_l.ttest <- t.test(PPG ~ veteran, data = df_gl)\n",
    "ppg_l.ttest"
   ]
  },
  {
   "cell_type": "code",
   "execution_count": null,
   "metadata": {},
   "outputs": [],
   "source": [
    "# Two Sample t-test PPG between Veterans and Non-Veterans\n",
    "# for players who played Medium number of games during the season\n",
    "ppg_m.ttest <- t.test(PPG ~ veteran, data = df_gm)\n",
    "ppg_m.ttest"
   ]
  },
  {
   "cell_type": "code",
   "execution_count": null,
   "metadata": {},
   "outputs": [],
   "source": [
    "# Two Sample t-test PPG between Veterans and Non-Veterans\n",
    "# for players who played High number of games during the season\n",
    "ppg_h.ttest <- t.test(PPG ~ veteran, data = df_gh)\n",
    "ppg_h.ttest"
   ]
  },
  {
   "cell_type": "markdown",
   "metadata": {},
   "source": [
    "All **four** Two Sample t-test have low p-values. In conclusion, there is significant difference between the means of the two groups in all data sets."
   ]
  },
  {
   "cell_type": "markdown",
   "metadata": {},
   "source": [
    "# RPG\n",
    "\n",
    "We are going to compare Veteran and Non-veterans using rebounds per game (RPG) metric. \n",
    "\n",
    "- mean and median RPG relative to veteran status\n",
    "- mean and median RPG relative to veteran status by number of games played (g_player_rank)\n",
    "- mean RPG relative to veteran status by seasons \n",
    "- density plot RPG relative to veteran status\n",
    "- t.test for comparing the means of two groups\n"
   ]
  },
  {
   "cell_type": "code",
   "execution_count": null,
   "metadata": {},
   "outputs": [],
   "source": [
    "# mean and median RPG for veteran and non-veterans \n",
    "df %>%\n",
    "group_by(veteran) %>%\n",
    "summarise(mean = mean(RPG),\n",
    "          median = median(RPG))"
   ]
  },
  {
   "cell_type": "code",
   "execution_count": null,
   "metadata": {},
   "outputs": [],
   "source": [
    "# mean and median RPG for veteran and non-veterans by number of games played buckets (g_player_rank)\n",
    "df %>%\n",
    "group_by(veteran, g_player_rank) %>%\n",
    "summarise(mean = mean(RPG),\n",
    "          median = median(RPG))"
   ]
  },
  {
   "cell_type": "code",
   "execution_count": null,
   "metadata": {},
   "outputs": [],
   "source": [
    "# create data frame for mean RPG by veteran status by seasons \n",
    "rpg_season <- df_stats %>% group_by(veteran, Year) %>%\n",
    "summarise(mean = mean(RPG))"
   ]
  },
  {
   "cell_type": "code",
   "execution_count": null,
   "metadata": {},
   "outputs": [],
   "source": [
    "# plot mean RPG by veteran status by seasons \n",
    "rpg_season %>% \n",
    "ggplot(aes(x=Year, y=mean, color = veteran)) + \n",
    "geom_line(size = 2) + \n",
    "labs(title=\"Average RPG Veteran vs Non-Veteran\", y = \"Average RPG\" , x = \"Season\") +\n",
    "theme_few() + theme(legend.position=\"bottom\")\n"
   ]
  },
  {
   "cell_type": "code",
   "execution_count": null,
   "metadata": {},
   "outputs": [],
   "source": [
    "# density plot RPG relative to Veteran status\n",
    "df %>%\n",
    "    ggplot(aes(RPG)) +\n",
    "    geom_density(aes(fill=factor(veteran)), alpha=0.5) + \n",
    "    labs(title = \"Distribution of RPG relative to Veteran status\",\n",
    "         x = \"RPG\",\n",
    "         y = \"Density\") +\n",
    "    scale_fill_brewer(palette = \"Set1\") + \n",
    "    theme_few()"
   ]
  },
  {
   "cell_type": "code",
   "execution_count": null,
   "metadata": {},
   "outputs": [],
   "source": [
    "# box plot RPG by Veteran status\n",
    "df %>%\n",
    "    ggplot(aes(x=veteran, y=RPG, fill=veteran)) +\n",
    "    geom_boxplot() +\n",
    "    labs(title = \"Distribution of RPG relative to Veteran status\",\n",
    "         x = \"Veteran\",\n",
    "         y = \"RPG\") +\n",
    "    scale_fill_brewer(palette = \"Set1\") + \n",
    "    theme_minimal()"
   ]
  },
  {
   "cell_type": "markdown",
   "metadata": {},
   "source": [
    "We will also look at box-plots of RPG relative to Veteran status grouped by number of games played buckets (g_player_rank)."
   ]
  },
  {
   "cell_type": "code",
   "execution_count": null,
   "metadata": {},
   "outputs": [],
   "source": [
    "# box-plot RPG relative to Veteran status\n",
    "# facet grid using g_player_rank\n",
    "df %>%\n",
    "    ggplot(aes(x=veteran, y=RPG, fill=veteran)) +\n",
    "    geom_boxplot() +\n",
    "    labs(title = \"Distribution of RPG relative to Veteran status\",\n",
    "         x = \"Veteran\",\n",
    "         y = \"RPG\") +\n",
    "    scale_fill_brewer(palette = \"Set1\") + \n",
    "    theme_minimal() + \n",
    "    facet_grid(g_player_rank~.)"
   ]
  },
  {
   "cell_type": "code",
   "execution_count": null,
   "metadata": {},
   "outputs": [],
   "source": [
    "# Two Sample t-test RPG between Veterans and Non-Veterans\n",
    "rpg.ttest <- t.test(RPG ~ veteran, data = df)\n",
    "rpg.ttest"
   ]
  },
  {
   "cell_type": "code",
   "execution_count": null,
   "metadata": {},
   "outputs": [],
   "source": [
    "# Two Sample t-test RPG between Veterans and Non-Veterans\n",
    "# for players who played Low number of games during the season\n",
    "rpg_l.ttest <- t.test(RPG ~ veteran, data = df_gl)\n",
    "rpg_l.ttest"
   ]
  },
  {
   "cell_type": "code",
   "execution_count": null,
   "metadata": {},
   "outputs": [],
   "source": [
    "# Two Sample t-test RPG between Veterans and Non-Veterans\n",
    "# for players who played Medium number of games during the season\n",
    "rpg_l.ttest <- t.test(RPG ~ veteran, data = df_gm)\n",
    "rpg_l.ttest"
   ]
  },
  {
   "cell_type": "code",
   "execution_count": null,
   "metadata": {},
   "outputs": [],
   "source": [
    "# Two Sample t-test RPG between Veterans and Non-Veterans\n",
    "# for players who played High number of games during the season\n",
    "rpg_l.ttest <- t.test(RPG ~ veteran, data = df_gl)\n",
    "rpg_l.ttest"
   ]
  },
  {
   "cell_type": "markdown",
   "metadata": {},
   "source": [
    "All **four** Two Sample t-test have low p-values. In conclusion, there is significant difference between the means of the two groups in all data sets."
   ]
  },
  {
   "cell_type": "markdown",
   "metadata": {},
   "source": [
    "# BPG\n",
    "\n",
    "We are going to compare Veteran and Non-veterans using blocks per game (BPG) metric. \n",
    "\n",
    "- mean and median BPG relative to veteran status\n",
    "- mean and median BPG relative to veteran status by number of games played (g_player_rank)\n",
    "- mean BPG relative to veteran status by seasons \n",
    "- density plot BPG relative to veteran status\n",
    "- t.test for comparing the means of two groups\n"
   ]
  },
  {
   "cell_type": "code",
   "execution_count": null,
   "metadata": {},
   "outputs": [],
   "source": [
    "# mean and median BPG for veteran and non-veterans \n",
    "df %>%\n",
    "group_by(veteran) %>%\n",
    "summarise(mean = mean(BPG),\n",
    "          median = median(BPG))"
   ]
  },
  {
   "cell_type": "code",
   "execution_count": null,
   "metadata": {},
   "outputs": [],
   "source": [
    "# mean and median BPG for veteran and non-veterans by number of games played buckets (g_player_rank)\n",
    "df %>%\n",
    "group_by(veteran, g_player_rank) %>%\n",
    "summarise(mean = mean(BPG),\n",
    "          median = median(BPG))"
   ]
  },
  {
   "cell_type": "code",
   "execution_count": null,
   "metadata": {},
   "outputs": [],
   "source": [
    "# create data frame for mean BPG by veteran status by seasons \n",
    "bpg_season <- df_stats %>% group_by(veteran, Year) %>%\n",
    "summarise(mean = mean(BPG))\n"
   ]
  },
  {
   "cell_type": "code",
   "execution_count": null,
   "metadata": {},
   "outputs": [],
   "source": [
    "# plot mean BPG by veteran status by seasons \n",
    "bpg_season %>% \n",
    "ggplot(aes(x=Year, y=mean, color = veteran)) + \n",
    "geom_line(size = 2) + \n",
    "labs(title=\"Average BPG Veteran vs Non-Veteran\", y = \"Average BPG\" , x = \"Season\") +\n",
    "theme_few() + theme(legend.position=\"bottom\")\n"
   ]
  },
  {
   "cell_type": "code",
   "execution_count": null,
   "metadata": {},
   "outputs": [],
   "source": [
    "# density plot BPG relative to Veteran status\n",
    "df %>%\n",
    "    ggplot(aes(BPG)) +\n",
    "    geom_density(aes(fill=factor(veteran)), alpha=0.5) + \n",
    "    labs(title = \"Distribution of BPG relative to Veteran status\",\n",
    "         x = \"BPG\",\n",
    "         y = \"Density\") +\n",
    "    scale_fill_brewer(palette = \"Set1\") + \n",
    "    theme_few()"
   ]
  },
  {
   "cell_type": "code",
   "execution_count": null,
   "metadata": {},
   "outputs": [],
   "source": [
    "# box plot RPG by Veteran status\n",
    "df %>%\n",
    "    ggplot(aes(x=veteran, y=BPG, fill=veteran)) +\n",
    "    geom_boxplot() +\n",
    "    labs(title = \"Distribution of BPG relative to Veteran status\",\n",
    "         x = \"Veteran\",\n",
    "         y = \"BPG\") +\n",
    "    scale_fill_brewer(palette = \"Set1\") + \n",
    "    theme_minimal()"
   ]
  },
  {
   "cell_type": "markdown",
   "metadata": {},
   "source": [
    "We will also look at box-plots of BPG relative to Veteran status grouped by number of games played buckets (g_player_rank)."
   ]
  },
  {
   "cell_type": "code",
   "execution_count": null,
   "metadata": {},
   "outputs": [],
   "source": [
    "# box-plot BPG relative to Veteran status\n",
    "# facet grid using g_player_rank\n",
    "df %>%\n",
    "    ggplot(aes(x=veteran, y=BPG, fill=veteran)) +\n",
    "    geom_boxplot() +\n",
    "    labs(title = \"Distribution of BPG relative to Veteran status\",\n",
    "         x = \"Veteran\",\n",
    "         y = \"BPG\") +\n",
    "    scale_fill_brewer(palette = \"Set1\") + \n",
    "    theme_minimal() + \n",
    "    facet_grid(g_player_rank~.)"
   ]
  },
  {
   "cell_type": "code",
   "execution_count": null,
   "metadata": {},
   "outputs": [],
   "source": [
    "# Two Sample t-test BPG between Veterans and Non-Veterans\n",
    "bpg.ttest <- t.test(BPG ~ veteran, data = df)\n",
    "bpg.ttest"
   ]
  },
  {
   "cell_type": "code",
   "execution_count": null,
   "metadata": {},
   "outputs": [],
   "source": [
    "# Two Sample t-test BPG between Veterans and Non-Veterans\n",
    "# for players who played Low number of games during the season\n",
    "bpg_l.ttest <- t.test(BPG ~ veteran, data = df_gl)\n",
    "bpg_l.ttest"
   ]
  },
  {
   "cell_type": "code",
   "execution_count": null,
   "metadata": {},
   "outputs": [],
   "source": [
    "# Two Sample t-test BPG between Veterans and Non-Veterans\n",
    "# for players who played Mid number of games during the season\n",
    "bpg_m.ttest <- t.test(BPG ~ veteran, data = df_gm)\n",
    "bpg_m.ttest"
   ]
  },
  {
   "cell_type": "code",
   "execution_count": null,
   "metadata": {},
   "outputs": [],
   "source": [
    "# Two Sample t-test BPG between Veterans and Non-Veterans\n",
    "# for players who played High number of games during the season\n",
    "bpg_h.ttest <- t.test(BPG ~ veteran, data = df_gh)\n",
    "bpg_h.ttest\n"
   ]
  },
  {
   "cell_type": "markdown",
   "metadata": {},
   "source": [
    "Using the full data set, BPG between Veterans and Non-Veterans had low p-value. \n",
    "Players in Low number of games during the season bucket also had low p-value. \n",
    "There is significant difference between the means of the two groups in both tests.\n",
    "\n",
    "Players in Mid and High number of games during the season buckets had high p-values. \n",
    "There is NO significant difference between the means of the two groups in both tests.\n"
   ]
  },
  {
   "cell_type": "markdown",
   "metadata": {},
   "source": [
    "# SPG\n",
    "\n",
    "We are going to compare Veteran and Non-veterans using steals per game (SPG) metric. \n",
    "\n",
    "- mean and median SPG relative to veteran status\n",
    "- mean and median SPG relative to veteran status by number of games played (g_player_rank)\n",
    "- mean SPG relative to veteran status by seasons \n",
    "- density plot SPG relative to veteran status\n",
    "- t.test for comparing the means of two groups"
   ]
  },
  {
   "cell_type": "code",
   "execution_count": null,
   "metadata": {},
   "outputs": [],
   "source": [
    "# mean and median SPG for veteran and non-veterans \n",
    "df %>%\n",
    "group_by(veteran) %>%\n",
    "summarise(mean = mean(SPG),\n",
    "          median = median(SPG))"
   ]
  },
  {
   "cell_type": "code",
   "execution_count": null,
   "metadata": {},
   "outputs": [],
   "source": [
    "# mean and median SPG for veteran and non-veterans by number of games played buckets (g_player_rank)\n",
    "df %>%\n",
    "group_by(veteran, g_player_rank) %>%\n",
    "summarise(mean = mean(SPG),\n",
    "          median = median(SPG))"
   ]
  },
  {
   "cell_type": "code",
   "execution_count": null,
   "metadata": {},
   "outputs": [],
   "source": [
    "# create data frame for mean SPG by veteran status by seasons \n",
    "spg_season <- df_stats %>% group_by(veteran, Year) %>%\n",
    "summarise(mean = mean(SPG))"
   ]
  },
  {
   "cell_type": "code",
   "execution_count": null,
   "metadata": {},
   "outputs": [],
   "source": [
    "# plot mean SPG by veteran status by seasons \n",
    "spg_season %>% \n",
    "ggplot(aes(x=Year, y=mean, color = veteran)) + \n",
    "geom_line(size = 2) + \n",
    "labs(title=\"Average SPG Veteran vs Non-Veteran\", y = \"Average SPG\" , x = \"Season\") +\n",
    "theme_few() + theme(legend.position=\"bottom\")\n"
   ]
  },
  {
   "cell_type": "code",
   "execution_count": null,
   "metadata": {},
   "outputs": [],
   "source": [
    "# density plot SPG relative to Veteran status\n",
    "df %>%\n",
    "    ggplot(aes(SPG)) +\n",
    "    geom_density(aes(fill=factor(veteran)), alpha=0.5) + \n",
    "    labs(title = \"Distribution of SPG relative to Veteran status\",\n",
    "         x = \"SPG\",\n",
    "         y = \"Density\") +\n",
    "    scale_fill_brewer(palette = \"Set1\") + \n",
    "    theme_few()"
   ]
  },
  {
   "cell_type": "code",
   "execution_count": null,
   "metadata": {},
   "outputs": [],
   "source": [
    "# box plot SPG by Veteran status\n",
    "df %>%\n",
    "    ggplot(aes(x=veteran, y=SPG, fill=veteran)) +\n",
    "    geom_boxplot() +\n",
    "    labs(title = \"Distribution of SPG relative to Veteran status\",\n",
    "         x = \"Veteran\",\n",
    "         y = \"SPG\") +\n",
    "    scale_fill_brewer(palette = \"Set1\") + \n",
    "    theme_minimal()"
   ]
  },
  {
   "cell_type": "markdown",
   "metadata": {},
   "source": [
    "We will also look at box-plots of SPG relative to Veteran status grouped by number of games played buckets (g_player_rank)."
   ]
  },
  {
   "cell_type": "code",
   "execution_count": null,
   "metadata": {},
   "outputs": [],
   "source": [
    "# box-plot SPG relative to Veteran status\n",
    "# facet grid using g_player_rank\n",
    "df %>%\n",
    "    ggplot(aes(x=veteran, y=SPG, fill=veteran)) +\n",
    "    geom_boxplot() +\n",
    "    labs(title = \"Distribution of SPG relative to Veteran status\",\n",
    "         x = \"Veteran\",\n",
    "         y = \"BPG\") +\n",
    "    scale_fill_brewer(palette = \"Set1\") + \n",
    "    theme_minimal() + \n",
    "    facet_grid(g_player_rank~.)"
   ]
  },
  {
   "cell_type": "code",
   "execution_count": null,
   "metadata": {},
   "outputs": [],
   "source": [
    "# Two Sample t-test SPG between Veterans and Non-Veterans\n",
    "spg.ttest <- t.test(SPG ~ veteran, data = df)\n",
    "spg.ttest"
   ]
  },
  {
   "cell_type": "code",
   "execution_count": null,
   "metadata": {},
   "outputs": [],
   "source": [
    "# Two Sample t-test SPG between Veterans and Non-Veterans\n",
    "# for players who played Low number of games during the season\n",
    "spg_l.ttest <- t.test(SPG ~ veteran, data = df_gl)\n",
    "spg_l.ttest"
   ]
  },
  {
   "cell_type": "code",
   "execution_count": null,
   "metadata": {},
   "outputs": [],
   "source": [
    "# Two Sample t-test SPG between Veterans and Non-Veterans\n",
    "# for players who played Medium number of games during the season\n",
    "spg_m.ttest <- t.test(SPG ~ veteran, data = df_gm)\n",
    "spg_m.ttest"
   ]
  },
  {
   "cell_type": "code",
   "execution_count": null,
   "metadata": {},
   "outputs": [],
   "source": [
    "# Two Sample t-test SPG between Veterans and Non-Veterans\n",
    "# for players who played High number of games during the season\n",
    "spg_h.ttest <- t.test(SPG ~ veteran, data = df_gh)\n",
    "spg_h.ttest"
   ]
  },
  {
   "cell_type": "markdown",
   "metadata": {},
   "source": [
    "All **four** Two Sample t-test have low p-values. In conclusion, there is significant difference between the means of the two groups in all data sets."
   ]
  },
  {
   "cell_type": "markdown",
   "metadata": {},
   "source": [
    "# APG\n",
    "\n",
    "We are going to compare Veteran and Non-veterans using assists per game (APG) metric. \n",
    "\n",
    "- mean and median APG relative to veteran status\n",
    "- mean and median APG relative to veteran status by number of games played (g_player_rank)\n",
    "- mean APG relative to veteran status by seasons \n",
    "- density plot APG relative to veteran status\n",
    "- t.test for comparing the means of two groups"
   ]
  },
  {
   "cell_type": "code",
   "execution_count": null,
   "metadata": {},
   "outputs": [],
   "source": [
    "# mean and median APG for veteran and non-veterans \n",
    "df %>%\n",
    "group_by(veteran) %>%\n",
    "summarise(mean = mean(APG),\n",
    "          median = median(APG))"
   ]
  },
  {
   "cell_type": "code",
   "execution_count": null,
   "metadata": {},
   "outputs": [],
   "source": [
    "# mean and median APG for veteran and non-veterans by number of games played buckets (g_player_rank)\n",
    "df %>%\n",
    "group_by(veteran, g_player_rank) %>%\n",
    "summarise(mean = mean(APG),\n",
    "          median = median(APG))"
   ]
  },
  {
   "cell_type": "code",
   "execution_count": null,
   "metadata": {},
   "outputs": [],
   "source": [
    "# create data frame for mean APG by veteran status by seasons \n",
    "apg_season <- df_stats %>% group_by(veteran, Year) %>%\n",
    "summarise(mean = mean(APG))\n"
   ]
  },
  {
   "cell_type": "code",
   "execution_count": null,
   "metadata": {},
   "outputs": [],
   "source": [
    "# plot mean APG by veteran status by seasons \n",
    "apg_season %>% \n",
    "ggplot(aes(x=Year, y=mean, color = veteran)) + \n",
    "geom_line(size = 2) + \n",
    "labs(title=\"Average APG Veteran vs Non-Veteran\", y = \"Average APG\" , x = \"Season\") +\n",
    "theme_few() + theme(legend.position=\"bottom\")\n"
   ]
  },
  {
   "cell_type": "code",
   "execution_count": null,
   "metadata": {},
   "outputs": [],
   "source": [
    "# density plot APG relative to Veteran status\n",
    "df %>%\n",
    "    ggplot(aes(APG)) +\n",
    "    geom_density(aes(fill=factor(veteran)), alpha=0.5) + \n",
    "    labs(title = \"Distribution of APG relative to Veteran status\",\n",
    "         x = \"APG\",\n",
    "         y = \"Density\") +\n",
    "    scale_fill_brewer(palette = \"Set1\") + \n",
    "    theme_few()"
   ]
  },
  {
   "cell_type": "code",
   "execution_count": null,
   "metadata": {},
   "outputs": [],
   "source": [
    "# box plot APG by Veteran status\n",
    "df %>%\n",
    "    ggplot(aes(x=veteran, y=APG, fill=veteran)) +\n",
    "    geom_boxplot() +\n",
    "    labs(title = \"Distribution of APG relative to Veteran status\",\n",
    "         x = \"Veteran\",\n",
    "         y = \"APG\") +\n",
    "    scale_fill_brewer(palette = \"Set1\") + \n",
    "    theme_minimal()"
   ]
  },
  {
   "cell_type": "markdown",
   "metadata": {},
   "source": [
    "We will also look at box-plots of APG relative to Veteran status grouped by number of games played buckets (g_player_rank)."
   ]
  },
  {
   "cell_type": "code",
   "execution_count": null,
   "metadata": {},
   "outputs": [],
   "source": [
    "# box-plot APG relative to Veteran status\n",
    "# facet grid using g_player_rank\n",
    "df %>%\n",
    "    ggplot(aes(x=veteran, y=APG, fill=veteran)) +\n",
    "    geom_boxplot() +\n",
    "    labs(title = \"Distribution of APG relative to Veteran status\",\n",
    "         x = \"Veteran\",\n",
    "         y = \"APG\") +\n",
    "    scale_fill_brewer(palette = \"Set1\") + \n",
    "    theme_minimal() + \n",
    "    facet_grid(g_player_rank~.)"
   ]
  },
  {
   "cell_type": "code",
   "execution_count": null,
   "metadata": {},
   "outputs": [],
   "source": [
    "# Two Sample t-test APG between Veterans and Non-Veterans\n",
    "apg.ttest <- t.test(APG ~ veteran, data = df)\n",
    "apg.ttest"
   ]
  },
  {
   "cell_type": "code",
   "execution_count": null,
   "metadata": {},
   "outputs": [],
   "source": [
    "# Two Sample t-test APG between Veterans and Non-Veterans\n",
    "# for players who played Low number of games during the season\n",
    "apg_l.ttest <- t.test(APG ~ veteran, data = df_gl)\n",
    "apg_l.ttest\n"
   ]
  },
  {
   "cell_type": "code",
   "execution_count": null,
   "metadata": {},
   "outputs": [],
   "source": [
    "# Two Sample t-test APG between Veterans and Non-Veterans\n",
    "# for players who played Medium number of games during the season\n",
    "apg_m.ttest <- t.test(APG ~ veteran, data = df_gm)\n",
    "apg_m.ttest"
   ]
  },
  {
   "cell_type": "code",
   "execution_count": null,
   "metadata": {},
   "outputs": [],
   "source": [
    "# Two Sample t-test APG between Veterans and Non-Veterans\n",
    "# for players who played High number of games during the season\n",
    "apg_h.ttest <- t.test(APG ~ veteran, data = df_gh)\n",
    "apg_h.ttest"
   ]
  },
  {
   "cell_type": "markdown",
   "metadata": {},
   "source": [
    "All **four** Two Sample t-test have low p-values. In conclusion, there is significant difference between the means of the two groups in all data sets."
   ]
  },
  {
   "cell_type": "markdown",
   "metadata": {},
   "source": [
    "# Visualization for comparing Veterans vs Non-Veterans \n",
    "\n",
    "We will create a vizualization for a direct comparison of Veterans and Non-Verterans per game metrics.  \n",
    "First, we will standardize the metrics so we can draw them using the same scale.  \n",
    "Radar plots will be used for the vizualization. https://plotly.com/r/radar-chart/\n",
    "\n",
    "\n",
    "- scale the per game metrics\n",
    "- subset data by number of games per season buckets\n",
    "- data frames for radar plots\n",
    "- radar plots"
   ]
  },
  {
   "cell_type": "code",
   "execution_count": null,
   "metadata": {},
   "outputs": [],
   "source": [
    "# scale the per game metrics\n",
    "# we are goingto standardize per game variables so we can vizualize them together using the same scale\n",
    "# we need this in order to create radar plot visualizations\n",
    "# https://en.wikipedia.org/wiki/Standard_score\n",
    "df_scaled <- df_stats %>% mutate_at(vars(c(FG.:APG)), scale)\n",
    "\n",
    "# subset by g_player_rank\n",
    "df_scaled_gl <- df_scaled %>% filter(g_player_rank == \"Low\")\n",
    "df_scaled_gm <- df_scaled %>% filter(g_player_rank == \"Med\")\n",
    "df_scaled_gh <- df_scaled %>% filter(g_player_rank == \"High\")"
   ]
  },
  {
   "cell_type": "code",
   "execution_count": null,
   "metadata": {},
   "outputs": [],
   "source": [
    "# data frame for radar plot using all data\n",
    "radar <- df_scaled %>%\n",
    "    group_by(veteran) %>%\n",
    "    summarise(FG. = mean(FG., na.rm=T),\n",
    "              Minutes = mean(MPG, na.rm=T),\n",
    "              Points = mean(PPG, na.rm=T),\n",
    "              Rebounds = mean(RPG, na.rm=T),\n",
    "              Assist = mean(APG, na.rm=T),\n",
    "              Steal = mean(SPG, na.rm=T),\n",
    "              Block = mean(BPG, na.rm=T)) %>%\n",
    "select(-veteran)\n",
    "\n",
    "# data frame for radar plot for players in the Low bucket\n",
    "radar_gl <- df_scaled_gl %>%\n",
    "    group_by(veteran) %>%\n",
    "    summarise(FG. = mean(FG., na.rm=T),\n",
    "              Minutes = mean(MPG, na.rm=T),\n",
    "              Points = mean(PPG, na.rm=T),\n",
    "              Rebounds = mean(RPG, na.rm=T),\n",
    "              Assist = mean(APG, na.rm=T),\n",
    "              Steal = mean(SPG, na.rm=T),\n",
    "              Block = mean(BPG, na.rm=T)) %>%\n",
    "select(-veteran)\n",
    "\n",
    "# data frame for radar plot for players in the Medium bucket\n",
    "radar_gm <- df_scaled_gm %>%\n",
    "    group_by(veteran) %>%\n",
    "    summarise(FG. = mean(FG., na.rm=T),\n",
    "              Minutes = mean(MPG, na.rm=T),\n",
    "              Points = mean(PPG, na.rm=T),\n",
    "              Rebounds = mean(RPG, na.rm=T),\n",
    "              Assist = mean(APG, na.rm=T),\n",
    "              Steal = mean(SPG, na.rm=T),\n",
    "              Block = mean(BPG, na.rm=T)) %>%\n",
    "select(-veteran)\n",
    "\n",
    "# data frame for radar plot for players in the High bucket\n",
    "radar_gh <- df_scaled_gh %>%\n",
    "    group_by(veteran) %>%\n",
    "    summarise(FG. = mean(FG., na.rm=T),\n",
    "              Minutes = mean(MPG, na.rm=T),\n",
    "              Points = mean(PPG, na.rm=T),\n",
    "              Rebounds = mean(RPG, na.rm=T),\n",
    "              Assist = mean(APG, na.rm=T),\n",
    "              Steal = mean(SPG, na.rm=T),\n",
    "              Block = mean(BPG, na.rm=T)) %>%\n",
    "select(-veteran)\n"
   ]
  },
  {
   "cell_type": "code",
   "execution_count": null,
   "metadata": {},
   "outputs": [],
   "source": [
    "# radar plot setup using all data\n",
    "# code from https://plotly.com/r/radar-chart/\n",
    "fig <- plot_ly(\n",
    "    type = 'scatterpolar',\n",
    "    fill = 'toself',\n",
    "    mode = 'markers'\n",
    "  ) \n",
    "fig <- fig %>%\n",
    "  add_trace(\n",
    "    r = as.numeric(as.vector(radar[1,])),\n",
    "    theta = c('FG.','Minutes','Points', 'Rebounds', 'Assist', 'Steal', 'Block'),\n",
    "    name = 'Non-Veterans'\n",
    "  ) \n",
    "fig <- fig %>%\n",
    "  add_trace(\n",
    "    r = as.numeric(as.vector(radar[2,])),\n",
    "    theta = c('FG.','Minutes','Points', 'Rebounds', 'Assist', 'Steal', 'Block'),\n",
    "    name = 'Veterans',\n",
    "    opacity = 0.5\n",
    "  ) \n",
    "fig <- fig %>%\n",
    "  layout(\n",
    "    polar = list(\n",
    "      radialaxis = list(\n",
    "        visible = T,\n",
    "        range = c(-1, 1))\n",
    "    )\n",
    "  )"
   ]
  },
  {
   "cell_type": "code",
   "execution_count": null,
   "metadata": {},
   "outputs": [],
   "source": [
    "# radar plot setup for players in the Low bucket\n",
    "# code from https://plotly.com/r/radar-chart/\n",
    "fig2 <- plot_ly(\n",
    "    type = 'scatterpolar',\n",
    "    fill = 'toself',\n",
    "    mode = 'markers'\n",
    "  ) \n",
    "fig2 <- fig2 %>%\n",
    "  add_trace(\n",
    "    r = as.numeric(as.vector(radar_gl[1,])),\n",
    "    theta = c('FG.','Minutes','Points', 'Rebounds', 'Assist', 'Steal', 'Block'),\n",
    "    name = 'Non-Veterans'\n",
    "  ) \n",
    "fig2 <- fig2 %>%\n",
    "  add_trace(\n",
    "    r = as.numeric(as.vector(radar_gl[2,])),\n",
    "    theta = c('FG.','Minutes','Points', 'Rebounds', 'Assist', 'Steal', 'Block'),\n",
    "    name = 'Veterans',\n",
    "    opacity = 0.5\n",
    "  ) \n",
    "fig2 <- fig2 %>%\n",
    "  layout(\n",
    "    polar = list(\n",
    "      radialaxis = list(\n",
    "        visible = T,\n",
    "        range = c(-1, 1))\n",
    "    )\n",
    "  )"
   ]
  },
  {
   "cell_type": "code",
   "execution_count": null,
   "metadata": {},
   "outputs": [],
   "source": [
    "# radar plot setup for players in the Medium bucket\n",
    "# code from https://plotly.com/r/radar-chart/\n",
    "fig3 <- plot_ly(\n",
    "    type = 'scatterpolar',\n",
    "    fill = 'toself',\n",
    "    mode = 'markers'\n",
    "  ) \n",
    "fig3 <- fig3 %>%\n",
    "  add_trace(\n",
    "    r = as.numeric(as.vector(radar_gm[1,])),\n",
    "    theta = c('FG.','Minutes','Points', 'Rebounds', 'Assist', 'Steal', 'Block'),\n",
    "    name = 'Non-Veterans'\n",
    "  ) \n",
    "fig3 <- fig3 %>%\n",
    "  add_trace(\n",
    "    r = as.numeric(as.vector(radar_gm[2,])),\n",
    "    theta = c('FG.','Minutes','Points', 'Rebounds', 'Assist', 'Steal', 'Block'),\n",
    "    name = 'Veterans',\n",
    "    opacity = 0.5\n",
    "  ) \n",
    "fig3 <- fig3 %>%\n",
    "  layout(\n",
    "    polar = list(\n",
    "      radialaxis = list(\n",
    "        visible = T,\n",
    "        range = c(-1, 1))\n",
    "    )\n",
    "  )"
   ]
  },
  {
   "cell_type": "code",
   "execution_count": null,
   "metadata": {},
   "outputs": [],
   "source": [
    "# radar plot setup for players in the High bucket\n",
    "# code from https://plotly.com/r/radar-chart/\n",
    "fig4 <- plot_ly(\n",
    "    type = 'scatterpolar',\n",
    "    fill = 'toself',\n",
    "    mode = 'markers'\n",
    "  ) \n",
    "fig4 <- fig4 %>%\n",
    "  add_trace(\n",
    "    r = as.numeric(as.vector(radar_gh[1,])),\n",
    "    theta = c('FG.','Minutes','Points', 'Rebounds', 'Assist', 'Steal', 'Block'),\n",
    "    name = 'Non-Veterans'\n",
    "  ) \n",
    "fig4 <- fig4 %>%\n",
    "  add_trace(\n",
    "    r = as.numeric(as.vector(radar_gh[2,])),\n",
    "    theta = c('FG.','Minutes','Points', 'Rebounds', 'Assist', 'Steal', 'Block'),\n",
    "    name = 'Veterans',\n",
    "    opacity = 0.5\n",
    "  ) \n",
    "fig4 <- fig4 %>%\n",
    "  layout(\n",
    "    polar = list(\n",
    "      radialaxis = list(\n",
    "        visible = T,\n",
    "        range = c(-1, 1))\n",
    "    )\n",
    "  )"
   ]
  },
  {
   "cell_type": "code",
   "execution_count": null,
   "metadata": {},
   "outputs": [],
   "source": [
    "###### WARNING ###### \n",
    "# sometimes the output doesnt show up on first run\n",
    "# rerun the cell if no output \n",
    "# show radar plot for all data\n",
    "fig"
   ]
  },
  {
   "cell_type": "code",
   "execution_count": null,
   "metadata": {},
   "outputs": [],
   "source": [
    "###### WARNING ###### \n",
    "# sometimes the output doesnt show up on first run\n",
    "# rerun the cell if no output \n",
    "# show radar plot for Low number of games bucket\n",
    "fig2"
   ]
  },
  {
   "cell_type": "code",
   "execution_count": null,
   "metadata": {},
   "outputs": [],
   "source": [
    "###### WARNING ###### \n",
    "# sometimes the output doesnt show up on first run\n",
    "# rerun the cell if no output \n",
    "# show radar plot for Medium number of games bucket\n",
    "fig3"
   ]
  },
  {
   "cell_type": "code",
   "execution_count": null,
   "metadata": {},
   "outputs": [],
   "source": [
    "###### WARNING ###### \n",
    "# sometimes the output doesnt show up on first run\n",
    "# rerun the cell if no output \n",
    "# show radar plot for High number of games bucket\n",
    "fig4"
   ]
  },
  {
   "cell_type": "markdown",
   "metadata": {},
   "source": [
    "# How do Veterans perform over time?\n",
    "\n",
    "We want to know how does Veterans performance change over time. \n",
    "We will look at the folowing metrics:\n",
    "- FG.: field goal %\n",
    "- MPG : minutes per game\n",
    "- RPG : rebounds per game\n",
    "- APG : assists per game\n",
    "- SPG : steals per game\n",
    "- BPG : blocks per game\n",
    "\n",
    " "
   ]
  },
  {
   "cell_type": "markdown",
   "metadata": {},
   "source": [
    "### Data Preperation\n",
    "\n",
    "- subset veteran players\n",
    "- set Season_Career_Length variable as factor"
   ]
  },
  {
   "cell_type": "code",
   "execution_count": null,
   "metadata": {},
   "outputs": [],
   "source": [
    "# subset veteran players into new data frame\n",
    "df_stats_v <- df_stats %>% filter(df_stats$veteran==1)"
   ]
  },
  {
   "cell_type": "code",
   "execution_count": null,
   "metadata": {},
   "outputs": [],
   "source": [
    "# set Season_Career_Length variable as factor\n",
    "df_stats_v$Season_Career_Length <- as.factor(df_stats_v$Season_Career_Length)"
   ]
  },
  {
   "cell_type": "code",
   "execution_count": null,
   "metadata": {},
   "outputs": [],
   "source": [
    "# Box-plot MPG by Season Career Length\n",
    "df_stats_v %>% \n",
    "ggplot(aes(x=Season_Career_Length, y=MPG)) + \n",
    "geom_boxplot() +\n",
    "labs(y=\"MPG\", \n",
    "     x=\"Season Career Length\", \n",
    "     title=\"Veterans Box Plot MPG by Season Career Length\") + \n",
    "theme_few()\n"
   ]
  },
  {
   "cell_type": "code",
   "execution_count": null,
   "metadata": {},
   "outputs": [],
   "source": [
    "# Veterans Average MPG by Season Career Length\n",
    "mpg_season_v <- df_stats_v %>% group_by(Year) %>%\n",
    "summarise(mean = mean(MPG))\n",
    "\n",
    "mpg_season_v %>% \n",
    "ggplot(aes(x=Year, y=mean)) + \n",
    "geom_line(size = 1) + \n",
    "labs(title=\"Average Veteran MPG over Season Career Length\", y = \"Average MPG\" , x = \"Season Career Length\") +\n",
    "theme_few() + theme(legend.position=\"bottom\")\n"
   ]
  },
  {
   "cell_type": "code",
   "execution_count": null,
   "metadata": {},
   "outputs": [],
   "source": [
    "# Box-plot PPG by Season Career Length\n",
    "df_stats_v %>% \n",
    "ggplot(aes(x=Season_Career_Length, y=PPG)) + \n",
    "geom_boxplot() +\n",
    "labs(y=\"APG\", \n",
    "     x=\"Season Career Length\", \n",
    "     title=\"Veterans Box Plot PPG by Season Career Length\") + \n",
    "theme_few()\n"
   ]
  },
  {
   "cell_type": "code",
   "execution_count": null,
   "metadata": {},
   "outputs": [],
   "source": [
    "# Veterans Average PPG by Season Career Length data frame\n",
    "ppg_season_v <- df_stats_v %>% group_by(Year) %>%\n",
    "summarise(mean = mean(PPG))\n",
    "\n",
    "# line plot Veterans Average PPG by Season Career Length \n",
    "ppg_season_v %>% \n",
    "ggplot(aes(x=Year, y=mean)) + \n",
    "geom_line(size = 1) + \n",
    "labs(title=\"Average Veteran PPG over Season Career Length\", y = \"Average PPG\" , x = \"Season Career Length\") +\n",
    "theme_few() + theme(legend.position=\"bottom\")\n"
   ]
  },
  {
   "cell_type": "code",
   "execution_count": null,
   "metadata": {},
   "outputs": [],
   "source": [
    "# Box-plot APG by Season Career Length\n",
    "df_stats_v %>% \n",
    "ggplot(aes(x=Season_Career_Length, y=APG)) + \n",
    "geom_boxplot() +\n",
    "labs(y=\"APG\", \n",
    "     x=\"Season Career Length\", \n",
    "     title=\"Veterans Box Plot APG by Seasons\") + \n",
    "theme_few()\n"
   ]
  },
  {
   "cell_type": "code",
   "execution_count": null,
   "metadata": {},
   "outputs": [],
   "source": [
    "# Veterans Average PPG by Season Career Length data frame\n",
    "apg_season_v <- df_stats_v %>% group_by(Year) %>%\n",
    "summarise(mean = mean(APG))\n",
    "\n",
    "# line plot Veterans Average PPG by Season Career Length \n",
    "apg_season_v %>% \n",
    "ggplot(aes(x=Year, y=mean)) + \n",
    "geom_line(size = 1) + \n",
    "labs(title=\"Average Veteran APG over Season Career Length\", y = \"Average APG\" , x = \"Season Career Length\") +\n",
    "theme_few() + theme(legend.position=\"bottom\")\n"
   ]
  },
  {
   "cell_type": "code",
   "execution_count": null,
   "metadata": {},
   "outputs": [],
   "source": [
    "# Box-plot APG by Season Career Length\n",
    "df_stats_v %>% \n",
    "ggplot(aes(x=Season_Career_Length, y=RPG)) + \n",
    "geom_boxplot() +\n",
    "labs(y=\"RPG\", \n",
    "     x=\"Season Career Length\", \n",
    "     title=\"Veterans Box Plot RPG by Seasons\") + \n",
    "theme_few()\n"
   ]
  },
  {
   "cell_type": "code",
   "execution_count": null,
   "metadata": {},
   "outputs": [],
   "source": [
    "# Veterans Average RPG by Season Career Length data frame\n",
    "rpg_season_v <- df_stats_v %>% group_by(Year) %>%\n",
    "summarise(mean = mean(RPG))\n",
    "# line plot Veterans Average RPG by Season Career Length \n",
    "rpg_season_v %>% \n",
    "ggplot(aes(x=Year, y=mean)) + \n",
    "geom_line(size = 1) + \n",
    "labs(title=\"Average Veteran RPG over Season Career Length\", y = \"Average RPG\" , x = \"Season Career Length\") +\n",
    "theme_few() + theme(legend.position=\"bottom\")\n"
   ]
  },
  {
   "cell_type": "code",
   "execution_count": null,
   "metadata": {},
   "outputs": [],
   "source": [
    "# Box-plot SPG by Season Career Length\n",
    "df_stats_v %>% \n",
    "ggplot(aes(x=Season_Career_Length, y=SPG)) + \n",
    "geom_boxplot() +\n",
    "labs(y=\"SPG\", \n",
    "     x=\"Season Career Length\", \n",
    "     title=\"Veterans Box Plot SPG by Seasons\") + \n",
    "theme_few()\n"
   ]
  },
  {
   "cell_type": "code",
   "execution_count": null,
   "metadata": {},
   "outputs": [],
   "source": [
    "# Veterans Average SPG by Season Career Length data frame\n",
    "spg_season_v <- df_stats_v %>% group_by(Year) %>%\n",
    "summarise(mean = mean(SPG))\n",
    "# line plot Veterans Average SPG by Season Career Length \n",
    "spg_season_v %>% \n",
    "ggplot(aes(x=Year, y=mean)) + \n",
    "geom_line(size = 1) + \n",
    "labs(title=\"Average Veteran SPG over Season Career Length\", y = \"Average SPG\" , x = \"Season Career Length\") +\n",
    "theme_few() + theme(legend.position=\"bottom\")\n"
   ]
  },
  {
   "cell_type": "code",
   "execution_count": null,
   "metadata": {},
   "outputs": [],
   "source": [
    "# Box-plot BPG by Season Career Length\n",
    "df_stats_v %>% \n",
    "ggplot(aes(x=Season_Career_Length, y=BPG)) + \n",
    "geom_boxplot() +\n",
    "labs(y=\"BPG\", \n",
    "     x=\"Season Career Length\", \n",
    "     title=\"Veterans Box Plot BPG by Seasons\") + \n",
    "theme_few()\n"
   ]
  },
  {
   "cell_type": "code",
   "execution_count": null,
   "metadata": {},
   "outputs": [],
   "source": [
    "# Veterans Average BPG by Season Career Length data frame\n",
    "bpg_season_v <- df_stats_v %>% group_by(Year) %>%\n",
    "summarise(mean = mean(BPG))\n",
    "# line plot Veterans Average BPG by Season Career Length bpg_season_v <- df_stats_v %>% group_by(Year) %>%\n",
    "bpg_season_v %>% \n",
    "ggplot(aes(x=Year, y=mean)) + \n",
    "geom_line(size = 1) + \n",
    "labs(title=\"Average Veteran BPG over Season Career Length\", y = \"Average BPG\" , x = \"Season Career Length\") +\n",
    "theme_few() + theme(legend.position=\"bottom\")"
   ]
  },
  {
   "cell_type": "markdown",
   "metadata": {},
   "source": [
    "# End of Analysis and Visualization Notebook"
   ]
  },
  {
   "cell_type": "code",
   "execution_count": null,
   "metadata": {},
   "outputs": [],
   "source": []
  }
 ],
 "metadata": {
  "kernelspec": {
   "display_name": "R",
   "language": "R",
   "name": "ir"
  },
  "language_info": {
   "codemirror_mode": "r",
   "file_extension": ".r",
   "mimetype": "text/x-r-source",
   "name": "R",
   "pygments_lexer": "r",
   "version": "3.5.1"
  }
 },
 "nbformat": 4,
 "nbformat_minor": 2
}
